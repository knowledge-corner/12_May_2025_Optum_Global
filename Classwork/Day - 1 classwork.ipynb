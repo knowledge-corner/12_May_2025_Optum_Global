{
 "cells": [
  {
   "cell_type": "markdown",
   "metadata": {
    "jp-MarkdownHeadingCollapsed": true
   },
   "source": [
    "### Agenda\n",
    "- Python Revision\n",
    "- Numpy Library - Arrays\n",
    "- Matplotlib  - Visualization\n",
    "- Pandas - Dataframe\n",
    "- Seaborn and pandas\n",
    "- plotly library + dash(framework using flask)"
   ]
  },
  {
   "cell_type": "markdown",
   "metadata": {},
   "source": [
    "### **Installing and Using Python with Different IDEs**\n",
    "\n",
    "#### **1. Installing Python**\n",
    "1. Visit [Python's official website](https://www.python.org/downloads/).\n",
    "2. Download the latest version for your OS (Windows, macOS, Linux).\n",
    "3. Run the installer and check the option **\"Add Python to PATH\"** before installation.\n",
    "4. Verify installation:\n",
    "   - Open a terminal or command prompt.\n",
    "   - Type `python --version` to confirm installation.\n",
    "\n",
    "---\n",
    "\n",
    "#### **2. Using Python in IDLE**\n",
    "1. IDLE comes bundled with Python.\n",
    "2. Open IDLE:\n",
    "   - Search for **IDLE** in your system and launch it.\n",
    "3. Write Python code in the interactive shell or open a new script (`File > New File`).\n",
    "4. Run the script (`Run > Run Module`).\n",
    "\n",
    "---\n",
    "\n",
    "#### **3. Using Python in VS Code**\n",
    "**Installation**\n",
    "1. Download and install [VS Code](https://code.visualstudio.com/Download).\n",
    "2. Install the Python extension:\n",
    "   - Open VS Code.\n",
    "   - Go to **Extensions (`Ctrl+Shift+X`)** and search for **Python**.\n",
    "   - Install the Python extension by Microsoft.\n",
    "\n",
    "**Using Python**\n",
    "1. Open VS Code and create a new `.py` file.\n",
    "2. Write Python code and save the file.\n",
    "3. Run the script:\n",
    "   - Open the terminal (`Ctrl+~`).\n",
    "   - Run `python filename.py`.\n",
    "\n",
    "---\n",
    "\n",
    "#### **4. Using Python in Jupyter Notebook**\n",
    "**Installation**\n",
    "1. Install Jupyter using pip:\n",
    "   - Open a terminal or command prompt.\n",
    "   - Run: `pip install notebook`.\n",
    "2. Launch Jupyter Notebook:\n",
    "   - Run `jupyter notebook` in the terminal.\n",
    "\n",
    "**Using Jupyter**\n",
    "1. Jupyter opens in a browser.\n",
    "2. Click **New > Python3 Notebook**.\n",
    "3. Write Python code in the cells and run using **Shift+Enter**.\n",
    "\n",
    "---\n",
    "\n",
    "#### **5. Using Python in Google Colab**\n",
    "1. Go to [Google Colab](https://colab.research.google.com/).\n",
    "2. Click **\"New Notebook\"**.\n",
    "3. Write Python code in a cell.\n",
    "4. Run the cell using **Shift+Enter**."
   ]
  },
  {
   "cell_type": "markdown",
   "metadata": {},
   "source": [
    "## Python Revision"
   ]
  },
  {
   "cell_type": "markdown",
   "metadata": {},
   "source": [
    "#### Python Data Types\n",
    "<table style=\"width: 100%; border-collapse: collapse; border: 1px solid #ccc; text-align: left;\">\n",
    "  <tr style=\"background-color: #050A30; color: white;\">\n",
    "        <th style=\"border: 1px solid #ccc; padding: 8px;\">Category</th>\n",
    "        <th style=\"border: 1px solid #ccc; padding: 8px;\">Data Type</th>\n",
    "        <th style=\"border: 1px solid #ccc; padding: 8px;\">Description</th>\n",
    "        <th style=\"border: 1px solid #ccc; padding: 8px;\">Examples</th>\n",
    "    </tr>\n",
    "    <tr>\n",
    "        <td style=\"border: 1px solid #ccc; padding: 8px;\">Numeric</td>\n",
    "        <td style=\"border: 1px solid #ccc; padding: 8px;\">int</td>\n",
    "        <td style=\"border: 1px solid #ccc; padding: 8px;\">Integer, represents whole numbers</td>\n",
    "        <td style=\"border: 1px solid #ccc; padding: 8px;\">5, -12, 0</td>\n",
    "    </tr>\n",
    "    <tr>\n",
    "        <td style=\"border: 1px solid #ccc; padding: 8px;\">Numeric</td>\n",
    "        <td style=\"border: 1px solid #ccc; padding: 8px;\">float</td>\n",
    "        <td style=\"border: 1px solid #ccc; padding: 8px;\">Floating-point, represents real numbers with a decimal</td>\n",
    "        <td style=\"border: 1px solid #ccc; padding: 8px;\">5.5, -3.14, 0.0</td>\n",
    "    </tr>\n",
    "    <tr>\n",
    "        <td style=\"border: 1px solid #ccc; padding: 8px;\">Numeric</td>\n",
    "        <td style=\"border: 1px solid #ccc; padding: 8px;\">complex</td>\n",
    "        <td style=\"border: 1px solid #ccc; padding: 8px;\">Complex number, has real and imaginary parts</td>\n",
    "        <td style=\"border: 1px solid #ccc; padding: 8px;\">3+5j, -2j</td>\n",
    "    </tr>\n",
    "    <tr>\n",
    "        <td style=\"border: 1px solid #ccc; padding: 8px;\">Sequence</td>\n",
    "        <td style=\"border: 1px solid #ccc; padding: 8px;\">str</td>\n",
    "        <td style=\"border: 1px solid #ccc; padding: 8px;\">String, a sequence of Unicode characters</td>\n",
    "        <td style=\"border: 1px solid #ccc; padding: 8px;\">\"hello\", 'world'</td>\n",
    "    </tr>   \n",
    "    <tr>\n",
    "        <td style=\"border: 1px solid #ccc; padding: 8px;\">Boolean</td>\n",
    "        <td style=\"border: 1px solid #ccc; padding: 8px;\">bool</td>\n",
    "        <td style=\"border: 1px solid #ccc; padding: 8px;\">Represents True or False values</td>\n",
    "        <td style=\"border: 1px solid #ccc; padding: 8px;\">True, False</td>\n",
    "    </tr>\n",
    "    <tr>\n",
    "        <td style=\"border: 1px solid #ccc; padding: 8px;\">None Type</td>\n",
    "        <td style=\"border: 1px solid #ccc; padding: 8px;\">NoneType</td>\n",
    "        <td style=\"border: 1px solid #ccc; padding: 8px;\">Represents the absence of a value or a null value</td>\n",
    "        <td style=\"border: 1px solid #ccc; padding: 8px;\">None</td>\n",
    "    </tr>\n",
    "</table>\n"
   ]
  },
  {
   "cell_type": "markdown",
   "metadata": {},
   "source": [
    "#### Python Containers\n",
    "   \n",
    "<table style=\"width: 100%; border-collapse: collapse; border: 1px solid #ccc; text-align: center;\">\n",
    "  <thead>\n",
    "    <tr style=\"background-color: #050A30; color: white;\">\n",
    "      <th style=\"border: 1px solid #ccc; padding: 8px;\">Object</th>\n",
    "      <th style=\"border: 1px solid #ccc; padding: 8px;\">Container Object</th>\n",
    "      <th style=\"border: 1px solid #ccc; padding: 8px;\">Sequence Type</th>\n",
    "      <th style=\"border: 1px solid #ccc; padding: 8px;\">Element Type</th>\n",
    "      <th style=\"border: 1px solid #ccc; padding: 8px;\">Enclosed in</th>\n",
    "      <th style=\"border: 1px solid #ccc; padding: 8px;\">Immutability</th>\n",
    "      <th style=\"border: 1px solid #ccc; padding: 8px;\">Duplicates</th>\n",
    "    </tr>\n",
    "  </thead>\n",
    "  <tbody>\n",
    "    <tr>\n",
    "      <td style=\"border: 1px solid #ccc; padding: 8px;\">str()</td>\n",
    "      <td style=\"border: 1px solid #ccc; padding: 8px;\">No</td>\n",
    "      <td style=\"border: 1px solid #ccc; padding: 8px;\">ordered/indexed</td>\n",
    "      <td style=\"border: 1px solid #ccc; padding: 8px;\">characters</td>\n",
    "      <td style=\"border: 1px solid #ccc; padding: 8px;\">\"\" or ''</td>\n",
    "      <td style=\"border: 1px solid #ccc; padding: 8px;\">Yes</td>\n",
    "      <td style=\"border: 1px solid #ccc; padding: 8px;\">Yes</td>\n",
    "    </tr>\n",
    "    <tr>\n",
    "      <td style=\"border: 1px solid #ccc; padding: 8px;\">tuple()</td>\n",
    "      <td style=\"border: 1px solid #ccc; padding: 8px;\">Yes</td>\n",
    "      <td style=\"border: 1px solid #ccc; padding: 8px;\">ordered/indexed</td>\n",
    "      <td style=\"border: 1px solid #ccc; padding: 8px;\">mixed data (heterogeneous)</td>\n",
    "      <td style=\"border: 1px solid #ccc; padding: 8px;\">()</td>\n",
    "      <td style=\"border: 1px solid #ccc; padding: 8px;\">Yes</td>\n",
    "      <td style=\"border: 1px solid #ccc; padding: 8px;\">Yes</td>\n",
    "    </tr>\n",
    "    <tr>\n",
    "      <td style=\"border: 1px solid #ccc; padding: 8px;\">list()</td>\n",
    "      <td style=\"border: 1px solid #ccc; padding: 8px;\">Yes</td>\n",
    "      <td style=\"border: 1px solid #ccc; padding: 8px;\">ordered/indexed</td>\n",
    "      <td style=\"border: 1px solid #ccc; padding: 8px;\">mixed data (heterogeneous)</td>\n",
    "      <td style=\"border: 1px solid #ccc; padding: 8px;\">[]</td>\n",
    "      <td style=\"border: 1px solid #ccc; padding: 8px;\">No</td>\n",
    "      <td style=\"border: 1px solid #ccc; padding: 8px;\">Yes</td>\n",
    "    </tr>\n",
    "    <tr>\n",
    "      <td style=\"border: 1px solid #ccc; padding: 8px;\">set()</td>\n",
    "      <td style=\"border: 1px solid #ccc; padding: 8px;\">Yes</td>\n",
    "      <td style=\"border: 1px solid #ccc; padding: 8px;\">unordered</td>\n",
    "      <td style=\"border: 1px solid #ccc; padding: 8px;\">heterogeneous (immutable objects)</td>\n",
    "      <td style=\"border: 1px solid #ccc; padding: 8px;\">{}</td>\n",
    "      <td style=\"border: 1px solid #ccc; padding: 8px;\">No</td>\n",
    "      <td style=\"border: 1px solid #ccc; padding: 8px;\">No</td>\n",
    "    </tr>\n",
    "    <tr>\n",
    "      <td style=\"border: 1px solid #ccc; padding: 8px;\">dict()</td>\n",
    "      <td style=\"border: 1px solid #ccc; padding: 8px;\">Yes</td>\n",
    "      <td style=\"border: 1px solid #ccc; padding: 8px;\">unordered</td>\n",
    "      <td style=\"border: 1px solid #ccc; padding: 8px;\">Key - immutable<br>Value - any type</td>\n",
    "      <td style=\"border: 1px solid #ccc; padding: 8px;\">{}</td>\n",
    "      <td style=\"border: 1px solid #ccc; padding: 8px;\">No</td>\n",
    "      <td style=\"border: 1px solid #ccc; padding: 8px;\">Key - No<br>Value - Yes</td>\n",
    "    </tr>\n"
   ]
  },
  {
   "cell_type": "code",
   "execution_count": 3,
   "metadata": {},
   "outputs": [
    {
     "data": {
      "text/plain": [
       "1"
      ]
     },
     "execution_count": 3,
     "metadata": {},
     "output_type": "execute_result"
    }
   ],
   "source": [
    "lst = [1, 2, 3, 4] \n",
    "lst[0]"
   ]
  },
  {
   "cell_type": "code",
   "execution_count": 4,
   "metadata": {},
   "outputs": [
    {
     "data": {
      "text/plain": [
       "4"
      ]
     },
     "execution_count": 4,
     "metadata": {},
     "output_type": "execute_result"
    }
   ],
   "source": [
    "lst[-1]"
   ]
  },
  {
   "cell_type": "code",
   "execution_count": 5,
   "metadata": {},
   "outputs": [
    {
     "data": {
      "text/plain": [
       "[1, 2]"
      ]
     },
     "execution_count": 5,
     "metadata": {},
     "output_type": "execute_result"
    }
   ],
   "source": [
    "lst[0:2]"
   ]
  },
  {
   "cell_type": "code",
   "execution_count": 6,
   "metadata": {},
   "outputs": [
    {
     "data": {
      "text/plain": [
       "'Jack'"
      ]
     },
     "execution_count": 6,
     "metadata": {},
     "output_type": "execute_result"
    }
   ],
   "source": [
    "dct = {1 : \"Jane\", 2 : \"Jack\"}\n",
    "dct[2]"
   ]
  },
  {
   "cell_type": "markdown",
   "metadata": {},
   "source": [
    "###### Ex. Replace vowels in a str with *"
   ]
  },
  {
   "cell_type": "code",
   "execution_count": 11,
   "metadata": {},
   "outputs": [
    {
     "name": "stdin",
     "output_type": "stream",
     "text": [
      "Enter a word -  singapore\n"
     ]
    },
    {
     "name": "stdout",
     "output_type": "stream",
     "text": [
      "s*ng*p*r*\n"
     ]
    }
   ],
   "source": [
    "word = input(\"Enter a word - \")\n",
    "for ch in \"aeiou\" :\n",
    "    word = word.replace(ch, \"*\")\n",
    "print(word)"
   ]
  },
  {
   "cell_type": "markdown",
   "metadata": {},
   "source": [
    "###### Ex. WAP to check if the input value is a digit or not if yes then multiply it with 5"
   ]
  },
  {
   "cell_type": "code",
   "execution_count": 13,
   "metadata": {},
   "outputs": [
    {
     "name": "stdin",
     "output_type": "stream",
     "text": [
      "Enter a number -  abcd\n"
     ]
    },
    {
     "name": "stdout",
     "output_type": "stream",
     "text": [
      "Invalid\n"
     ]
    }
   ],
   "source": [
    "number = input(\"Enter a number - \")  # Always take value in str format\n",
    "if number.isdigit() :\n",
    "    print(int(number) * 5)\n",
    "else:\n",
    "    print(\"Invalid\")"
   ]
  },
  {
   "cell_type": "markdown",
   "metadata": {},
   "source": [
    "###### Ex. Working on currency values\n",
    "\n",
    "WAP to convert the given sales value to int. profit = ($1,200)"
   ]
  },
  {
   "cell_type": "code",
   "execution_count": 18,
   "metadata": {},
   "outputs": [
    {
     "data": {
      "text/plain": [
       "-1200"
      ]
     },
     "execution_count": 18,
     "metadata": {},
     "output_type": "execute_result"
    }
   ],
   "source": [
    "profit = \"($1,200)\"  # profit = -1200\n",
    "obj = str.maketrans(\"(\", \"-\", \"$,)\")\n",
    "int(profit.translate(obj))"
   ]
  },
  {
   "cell_type": "code",
   "execution_count": 19,
   "metadata": {},
   "outputs": [
    {
     "name": "stdin",
     "output_type": "stream",
     "text": [
      "Enter a word -  singapore\n"
     ]
    },
    {
     "data": {
      "text/plain": [
       "'s*ng*p*r*'"
      ]
     },
     "execution_count": 19,
     "metadata": {},
     "output_type": "execute_result"
    }
   ],
   "source": [
    "word = input(\"Enter a word - \")\n",
    "obj = str.maketrans(\"aeiou\", \"*****\")\n",
    "word.translate(obj)"
   ]
  },
  {
   "cell_type": "markdown",
   "metadata": {},
   "source": [
    "###### Ex. Apply 7% service charge to all the sales values in the given tuple"
   ]
  },
  {
   "cell_type": "code",
   "execution_count": 20,
   "metadata": {},
   "outputs": [
    {
     "data": {
      "text/plain": [
       "[310.3, 321.0, 856.0, 535.0]"
      ]
     },
     "execution_count": 20,
     "metadata": {},
     "output_type": "execute_result"
    }
   ],
   "source": [
    "sales = (\"290\", \"300\", \"800\", \"500\")\n",
    "[int(val) * 1.07 for val in sales]"
   ]
  },
  {
   "cell_type": "markdown",
   "metadata": {},
   "source": [
    "###### Ex. Sort the folowing list of words based on number of characters in each word"
   ]
  },
  {
   "cell_type": "code",
   "execution_count": 34,
   "metadata": {},
   "outputs": [
    {
     "data": {
      "text/plain": [
       "['train', 'flight', 'car', 'bike']"
      ]
     },
     "execution_count": 34,
     "metadata": {},
     "output_type": "execute_result"
    }
   ],
   "source": [
    "words = [\"flight\", \"car\", \"bike\", \"train\"]\n",
    "sorted(words, reverse=True)"
   ]
  },
  {
   "cell_type": "code",
   "execution_count": 35,
   "metadata": {},
   "outputs": [
    {
     "name": "stdout",
     "output_type": "stream",
     "text": [
      "Help on built-in function sorted in module builtins:\n",
      "\n",
      "sorted(iterable, /, *, key=None, reverse=False)\n",
      "    Return a new list containing all items from the iterable in ascending order.\n",
      "\n",
      "    A custom key function can be supplied to customize the sort order, and the\n",
      "    reverse flag can be set to request the result in descending order.\n",
      "\n"
     ]
    }
   ],
   "source": [
    "help(sorted)"
   ]
  },
  {
   "cell_type": "code",
   "execution_count": 36,
   "metadata": {},
   "outputs": [
    {
     "data": {
      "text/plain": [
       "['car', 'bike', 'train', 'flight']"
      ]
     },
     "execution_count": 36,
     "metadata": {},
     "output_type": "execute_result"
    }
   ],
   "source": [
    "sorted(words, key = len) # function object as an argument"
   ]
  },
  {
   "cell_type": "code",
   "execution_count": 37,
   "metadata": {},
   "outputs": [
    {
     "data": {
      "text/plain": [
       "['bike', 'train', 'car', 'flight']"
      ]
     },
     "execution_count": 37,
     "metadata": {},
     "output_type": "execute_result"
    }
   ],
   "source": [
    "sorted(words, key = lambda val : val[-1])"
   ]
  },
  {
   "cell_type": "code",
   "execution_count": 38,
   "metadata": {},
   "outputs": [
    {
     "data": {
      "text/plain": [
       "'train'"
      ]
     },
     "execution_count": 38,
     "metadata": {},
     "output_type": "execute_result"
    }
   ],
   "source": [
    "max(words)"
   ]
  },
  {
   "cell_type": "code",
   "execution_count": 39,
   "metadata": {},
   "outputs": [
    {
     "data": {
      "text/plain": [
       "'flight'"
      ]
     },
     "execution_count": 39,
     "metadata": {},
     "output_type": "execute_result"
    }
   ],
   "source": [
    "max(words, key = len)"
   ]
  },
  {
   "cell_type": "code",
   "execution_count": 30,
   "metadata": {},
   "outputs": [
    {
     "data": {
      "text/plain": [
       "'flight'"
      ]
     },
     "execution_count": 30,
     "metadata": {},
     "output_type": "execute_result"
    }
   ],
   "source": [
    "max(words, key = min)"
   ]
  },
  {
   "cell_type": "markdown",
   "metadata": {},
   "source": [
    "###### Ex. Sort the dict based on salaries"
   ]
  },
  {
   "cell_type": "code",
   "execution_count": 41,
   "metadata": {},
   "outputs": [
    {
     "data": {
      "text/plain": [
       "['George', 'Jack', 'Jane', 'Rosie']"
      ]
     },
     "execution_count": 41,
     "metadata": {},
     "output_type": "execute_result"
    }
   ],
   "source": [
    "emp = {\"Jane\" : 50000, \"George\" : 40000, \"Jack\" : 45000, \"Rosie\" : 25000}\n",
    "sorted(emp) # returns a list of keys in sorted order"
   ]
  },
  {
   "cell_type": "code",
   "execution_count": 44,
   "metadata": {},
   "outputs": [
    {
     "data": {
      "text/plain": [
       "{'George': 40000, 'Jack': 45000, 'Jane': 50000, 'Rosie': 25000}"
      ]
     },
     "execution_count": 44,
     "metadata": {},
     "output_type": "execute_result"
    }
   ],
   "source": [
    "dict(sorted(emp.items()))  # returns a dict in sorted order of keys"
   ]
  },
  {
   "cell_type": "code",
   "execution_count": 46,
   "metadata": {},
   "outputs": [
    {
     "data": {
      "text/plain": [
       "{'Rosie': 25000, 'George': 40000, 'Jack': 45000, 'Jane': 50000}"
      ]
     },
     "execution_count": 46,
     "metadata": {},
     "output_type": "execute_result"
    }
   ],
   "source": [
    "dict(sorted(emp.items(), key = lambda tup : tup[1]))  # returns a dict in sorted order of values/salaries"
   ]
  },
  {
   "cell_type": "code",
   "execution_count": 45,
   "metadata": {},
   "outputs": [
    {
     "data": {
      "text/plain": [
       "dict_items([('Jane', 50000), ('George', 40000), ('Jack', 45000), ('Rosie', 25000)])"
      ]
     },
     "execution_count": 45,
     "metadata": {},
     "output_type": "execute_result"
    }
   ],
   "source": [
    "emp.items()"
   ]
  },
  {
   "cell_type": "markdown",
   "metadata": {},
   "source": [
    "### Functions in Python"
   ]
  },
  {
   "cell_type": "code",
   "execution_count": 47,
   "metadata": {},
   "outputs": [],
   "source": [
    "# Function defination\n",
    "def add(num1, num2) :\n",
    "    return num1 + num2"
   ]
  },
  {
   "cell_type": "code",
   "execution_count": 49,
   "metadata": {},
   "outputs": [
    {
     "name": "stdout",
     "output_type": "stream",
     "text": [
      "5\n"
     ]
    }
   ],
   "source": [
    "# function call\n",
    "var = add(2, 3)\n",
    "print(var)"
   ]
  },
  {
   "cell_type": "code",
   "execution_count": 50,
   "metadata": {},
   "outputs": [
    {
     "data": {
      "text/plain": [
       "5"
      ]
     },
     "execution_count": 50,
     "metadata": {},
     "output_type": "execute_result"
    }
   ],
   "source": [
    "add(2, 3)"
   ]
  },
  {
   "cell_type": "code",
   "execution_count": 51,
   "metadata": {},
   "outputs": [
    {
     "data": {
      "text/plain": [
       "'t'"
      ]
     },
     "execution_count": 51,
     "metadata": {},
     "output_type": "execute_result"
    }
   ],
   "source": [
    "last_char = lambda val : val[-1]\n",
    "last_char(\"flight\")"
   ]
  },
  {
   "cell_type": "markdown",
   "metadata": {},
   "source": [
    "### Function Arguments\n",
    "\n",
    "1. Required Positional Argument\n",
    "2. Default Argument\n",
    "3. Variable Length Argument\n",
    "4. Key-word Argument\n",
    "5. Variable Length Key-word Argument"
   ]
  },
  {
   "cell_type": "markdown",
   "metadata": {},
   "source": [
    "#### Required Positional Argument"
   ]
  },
  {
   "cell_type": "code",
   "execution_count": 58,
   "metadata": {},
   "outputs": [
    {
     "name": "stdout",
     "output_type": "stream",
     "text": [
      "Name - Jane | Age - 30\n",
      "Name - 30 | Age - Jane\n"
     ]
    },
    {
     "ename": "TypeError",
     "evalue": "demo() missing 1 required positional argument: 'age'",
     "output_type": "error",
     "traceback": [
      "\u001b[31m---------------------------------------------------------------------------\u001b[39m",
      "\u001b[31mTypeError\u001b[39m                                 Traceback (most recent call last)",
      "\u001b[36mCell\u001b[39m\u001b[36m \u001b[39m\u001b[32mIn[58]\u001b[39m\u001b[32m, line 6\u001b[39m\n\u001b[32m      4\u001b[39m demo(\u001b[33m\"\u001b[39m\u001b[33mJane\u001b[39m\u001b[33m\"\u001b[39m, \u001b[32m30\u001b[39m)\n\u001b[32m      5\u001b[39m demo(\u001b[32m30\u001b[39m, \u001b[33m\"\u001b[39m\u001b[33mJane\u001b[39m\u001b[33m\"\u001b[39m)\n\u001b[32m----> \u001b[39m\u001b[32m6\u001b[39m \u001b[43mdemo\u001b[49m\u001b[43m(\u001b[49m\u001b[33;43m\"\u001b[39;49m\u001b[33;43mJane\u001b[39;49m\u001b[33;43m\"\u001b[39;49m\u001b[43m)\u001b[49m\n",
      "\u001b[31mTypeError\u001b[39m: demo() missing 1 required positional argument: 'age'"
     ]
    }
   ],
   "source": [
    "def demo(name, age) :\n",
    "    print(f\"Name - {name} | Age - {age}\")\n",
    "\n",
    "demo(\"Jane\", 30)\n",
    "demo(30, \"Jane\")\n",
    "demo(\"Jane\")"
   ]
  },
  {
   "cell_type": "markdown",
   "metadata": {},
   "source": [
    "**Example -**"
   ]
  },
  {
   "cell_type": "code",
   "execution_count": 61,
   "metadata": {},
   "outputs": [
    {
     "name": "stdout",
     "output_type": "stream",
     "text": [
      "Help on method_descriptor:\n",
      "\n",
      "insert(self, index, object, /)\n",
      "    Insert object before index.\n",
      "\n"
     ]
    }
   ],
   "source": [
    "help(list.insert)"
   ]
  },
  {
   "cell_type": "markdown",
   "metadata": {},
   "source": [
    "###### Ex. To insert `4` at position `2`"
   ]
  },
  {
   "cell_type": "code",
   "execution_count": 56,
   "metadata": {},
   "outputs": [
    {
     "data": {
      "text/plain": [
       "[10, 20, 4, 30, 40, 50]"
      ]
     },
     "execution_count": 56,
     "metadata": {},
     "output_type": "execute_result"
    }
   ],
   "source": [
    "lst = [10, 20, 30, 40, 50]\n",
    "lst.insert(2, 4)\n",
    "lst"
   ]
  },
  {
   "cell_type": "code",
   "execution_count": 57,
   "metadata": {},
   "outputs": [
    {
     "data": {
      "text/plain": [
       "[10, 20, 30, 40, 2, 50]"
      ]
     },
     "execution_count": 57,
     "metadata": {},
     "output_type": "execute_result"
    }
   ],
   "source": [
    "lst = [10, 20, 30, 40, 50]\n",
    "lst.insert(4, 2)   # No error but output is logically incorrect\n",
    "lst"
   ]
  },
  {
   "cell_type": "code",
   "execution_count": 59,
   "metadata": {},
   "outputs": [
    {
     "ename": "TypeError",
     "evalue": "'str' object cannot be interpreted as an integer",
     "output_type": "error",
     "traceback": [
      "\u001b[31m---------------------------------------------------------------------------\u001b[39m",
      "\u001b[31mTypeError\u001b[39m                                 Traceback (most recent call last)",
      "\u001b[36mCell\u001b[39m\u001b[36m \u001b[39m\u001b[32mIn[59]\u001b[39m\u001b[32m, line 2\u001b[39m\n\u001b[32m      1\u001b[39m lst = [\u001b[32m10\u001b[39m, \u001b[32m20\u001b[39m, \u001b[32m30\u001b[39m, \u001b[32m40\u001b[39m, \u001b[32m50\u001b[39m]\n\u001b[32m----> \u001b[39m\u001b[32m2\u001b[39m \u001b[43mlst\u001b[49m\u001b[43m.\u001b[49m\u001b[43minsert\u001b[49m\u001b[43m(\u001b[49m\u001b[33;43m\"\u001b[39;49m\u001b[33;43mabc\u001b[39;49m\u001b[33;43m\"\u001b[39;49m\u001b[43m,\u001b[49m\u001b[43m \u001b[49m\u001b[32;43m2\u001b[39;49m\u001b[43m)\u001b[49m \u001b[38;5;66;03m# gives error\u001b[39;00m\n\u001b[32m      3\u001b[39m lst\n",
      "\u001b[31mTypeError\u001b[39m: 'str' object cannot be interpreted as an integer"
     ]
    }
   ],
   "source": [
    "lst = [10, 20, 30, 40, 50]\n",
    "lst.insert(\"abc\", 2) # gives error\n",
    "lst"
   ]
  },
  {
   "cell_type": "code",
   "execution_count": 60,
   "metadata": {},
   "outputs": [
    {
     "data": {
      "text/plain": [
       "[10, 20, 'abc', 30, 40, 50]"
      ]
     },
     "execution_count": 60,
     "metadata": {},
     "output_type": "execute_result"
    }
   ],
   "source": [
    "lst = [10, 20, 30, 40, 50]\n",
    "lst.insert(2, \"abc\") \n",
    "lst"
   ]
  },
  {
   "cell_type": "markdown",
   "metadata": {},
   "source": [
    "#### Default Argument"
   ]
  },
  {
   "cell_type": "code",
   "execution_count": 62,
   "metadata": {},
   "outputs": [
    {
     "name": "stdout",
     "output_type": "stream",
     "text": [
      "Help on method_descriptor:\n",
      "\n",
      "replace(self, old, new, count=-1, /)\n",
      "    Return a copy with all occurrences of substring old replaced by new.\n",
      "\n",
      "      count\n",
      "        Maximum number of occurrences to replace.\n",
      "        -1 (the default value) means replace all occurrences.\n",
      "\n",
      "    If the optional argument count is given, only the first count occurrences are\n",
      "    replaced.\n",
      "\n"
     ]
    }
   ],
   "source": [
    "help(str.replace)"
   ]
  },
  {
   "cell_type": "code",
   "execution_count": 63,
   "metadata": {},
   "outputs": [
    {
     "data": {
      "text/plain": [
       "'M*ss*ss*pp*'"
      ]
     },
     "execution_count": 63,
     "metadata": {},
     "output_type": "execute_result"
    }
   ],
   "source": [
    "word = \"Mississippi\"\n",
    "word.replace(\"i\", \"*\")"
   ]
  },
  {
   "cell_type": "code",
   "execution_count": 64,
   "metadata": {},
   "outputs": [
    {
     "data": {
      "text/plain": [
       "'M*ss*ssippi'"
      ]
     },
     "execution_count": 64,
     "metadata": {},
     "output_type": "execute_result"
    }
   ],
   "source": [
    "word = \"Mississippi\"\n",
    "word.replace(\"i\", \"*\", 2)"
   ]
  },
  {
   "cell_type": "code",
   "execution_count": 65,
   "metadata": {},
   "outputs": [
    {
     "name": "stdout",
     "output_type": "stream",
     "text": [
      "Help on built-in function sorted in module builtins:\n",
      "\n",
      "sorted(iterable, /, *, key=None, reverse=False)\n",
      "    Return a new list containing all items from the iterable in ascending order.\n",
      "\n",
      "    A custom key function can be supplied to customize the sort order, and the\n",
      "    reverse flag can be set to request the result in descending order.\n",
      "\n"
     ]
    }
   ],
   "source": [
    "help(sorted)"
   ]
  },
  {
   "cell_type": "markdown",
   "metadata": {},
   "source": [
    "#### Variable Length Argument"
   ]
  },
  {
   "cell_type": "code",
   "execution_count": 67,
   "metadata": {},
   "outputs": [
    {
     "name": "stdout",
     "output_type": "stream",
     "text": [
      "Name - Jane | Age - 30 | agrs - (50, 60, 70, 80, 18)\n"
     ]
    }
   ],
   "source": [
    "def demo(name, *args, age = 30) :\n",
    "    print(f\"Name - {name} | Age - {age} | agrs - {args}\")\n",
    "\n",
    "demo(\"Jane\", 50, 60, 70, 80, 18)  # args has assigned all the values to itself as a tuple"
   ]
  },
  {
   "cell_type": "code",
   "execution_count": 75,
   "metadata": {},
   "outputs": [
    {
     "data": {
      "text/plain": [
       "4"
      ]
     },
     "execution_count": 75,
     "metadata": {},
     "output_type": "execute_result"
    }
   ],
   "source": [
    "max([1, 2, 3, 4])"
   ]
  },
  {
   "cell_type": "code",
   "execution_count": 77,
   "metadata": {},
   "outputs": [
    {
     "data": {
      "text/plain": [
       "60"
      ]
     },
     "execution_count": 77,
     "metadata": {},
     "output_type": "execute_result"
    }
   ],
   "source": [
    "max(10, 30, 20, 50, 60)"
   ]
  },
  {
   "cell_type": "code",
   "execution_count": 76,
   "metadata": {},
   "outputs": [
    {
     "name": "stdout",
     "output_type": "stream",
     "text": [
      "Help on built-in function max in module builtins:\n",
      "\n",
      "max(...)\n",
      "    max(iterable, *[, default=obj, key=func]) -> value\n",
      "    max(arg1, arg2, *args, *[, key=func]) -> value\n",
      "\n",
      "    With a single iterable argument, return its biggest item. The\n",
      "    default keyword-only argument specifies an object to return if\n",
      "    the provided iterable is empty.\n",
      "    With two or more arguments, return the largest argument.\n",
      "\n"
     ]
    }
   ],
   "source": [
    "help(max)"
   ]
  },
  {
   "cell_type": "markdown",
   "metadata": {},
   "source": [
    "#### Key-word Argument\n",
    "- if position of argument is unknown\n",
    "- if that argument is followed by *args"
   ]
  },
  {
   "cell_type": "code",
   "execution_count": 68,
   "metadata": {},
   "outputs": [
    {
     "name": "stdout",
     "output_type": "stream",
     "text": [
      "Name - Jane | Age - 18 | agrs - (50, 60, 70, 80)\n"
     ]
    }
   ],
   "source": [
    "demo(\"Jane\", 50, 60, 70, 80, age = 18)"
   ]
  },
  {
   "cell_type": "markdown",
   "metadata": {},
   "source": [
    "#### Variable Length Key-word Argument"
   ]
  },
  {
   "cell_type": "code",
   "execution_count": 69,
   "metadata": {},
   "outputs": [
    {
     "name": "stdout",
     "output_type": "stream",
     "text": [
      "Name - Jane | Age - 18 | agrs - (50, 60, 70, 80) | kwargs - {'mob': 987655434, 'gender': 'F'}\n"
     ]
    }
   ],
   "source": [
    "def demo(name, *args, age = 30, **kwargs) :\n",
    "    print(f\"Name - {name} | Age - {age} | agrs - {args} | kwargs - {kwargs}\")\n",
    "\n",
    "demo(\"Jane\", 50, 60, 70, 80, age = 18, mob = 987655434, gender = \"F\")"
   ]
  },
  {
   "cell_type": "markdown",
   "metadata": {},
   "source": [
    "**Example -**"
   ]
  },
  {
   "cell_type": "code",
   "execution_count": 74,
   "metadata": {},
   "outputs": [
    {
     "data": {
      "text/plain": [
       "[<matplotlib.lines.Line2D at 0x29283134830>]"
      ]
     },
     "execution_count": 74,
     "metadata": {},
     "output_type": "execute_result"
    },
    {
     "data": {
      "image/png": "[encoded data removed]",
      "text/plain": [
       "<Figure size 640x480 with 1 Axes>"
      ]
     },
     "metadata": {},
     "output_type": "display_data"
    }
   ],
   "source": [
    "import matplotlib.pyplot as plt\n",
    "dates = [\"Jan\", \"Feb\", \"Mar\", \"Apr\", \"May\"]\n",
    "sales = [500, 800, 400, 300, 600]\n",
    "\n",
    "plt.plot(dates, sales, c = \"red\", ls = \"--\")"
   ]
  },
  {
   "cell_type": "markdown",
   "metadata": {},
   "source": [
    "#### Significance of `/` and `*` in function definition\n",
    "\n",
    "- **`/`** - All arguments before `/` must be positional only\n",
    "- **`*`** - All arguments after `*` must be key-word only"
   ]
  },
  {
   "cell_type": "code",
   "execution_count": 81,
   "metadata": {},
   "outputs": [
    {
     "name": "stdout",
     "output_type": "stream",
     "text": [
      "Name - Jane | Age - 30\n",
      "Name - Jane | Age - 30\n",
      "Name - Jane | Age - 30\n"
     ]
    }
   ],
   "source": [
    "def demo(name, age) :\n",
    "     print(f\"Name - {name} | Age - {age}\")\n",
    "\n",
    "demo(\"Jane\", 30) # positional\n",
    "demo(\"Jane\", age = 30) # positional and key-word\n",
    "demo(age = 30, name = \"Jane\") # key-word"
   ]
  },
  {
   "cell_type": "code",
   "execution_count": 82,
   "metadata": {},
   "outputs": [
    {
     "name": "stdout",
     "output_type": "stream",
     "text": [
      "Name - Jane | Age - 30\n",
      "Name - Jane | Age - 30\n"
     ]
    },
    {
     "ename": "TypeError",
     "evalue": "demo() got some positional-only arguments passed as keyword arguments: 'name'",
     "output_type": "error",
     "traceback": [
      "\u001b[31m---------------------------------------------------------------------------\u001b[39m",
      "\u001b[31mTypeError\u001b[39m                                 Traceback (most recent call last)",
      "\u001b[36mCell\u001b[39m\u001b[36m \u001b[39m\u001b[32mIn[82]\u001b[39m\u001b[32m, line 6\u001b[39m\n\u001b[32m      4\u001b[39m demo(\u001b[33m\"\u001b[39m\u001b[33mJane\u001b[39m\u001b[33m\"\u001b[39m, \u001b[32m30\u001b[39m) \u001b[38;5;66;03m# positional\u001b[39;00m\n\u001b[32m      5\u001b[39m demo(\u001b[33m\"\u001b[39m\u001b[33mJane\u001b[39m\u001b[33m\"\u001b[39m, age = \u001b[32m30\u001b[39m) \u001b[38;5;66;03m# positional and key-word\u001b[39;00m\n\u001b[32m----> \u001b[39m\u001b[32m6\u001b[39m \u001b[43mdemo\u001b[49m\u001b[43m(\u001b[49m\u001b[43mage\u001b[49m\u001b[43m \u001b[49m\u001b[43m=\u001b[49m\u001b[43m \u001b[49m\u001b[32;43m30\u001b[39;49m\u001b[43m,\u001b[49m\u001b[43m \u001b[49m\u001b[43mname\u001b[49m\u001b[43m \u001b[49m\u001b[43m=\u001b[49m\u001b[43m \u001b[49m\u001b[33;43m\"\u001b[39;49m\u001b[33;43mJane\u001b[39;49m\u001b[33;43m\"\u001b[39;49m\u001b[43m)\u001b[49m \u001b[38;5;66;03m# key-word\u001b[39;00m\n",
      "\u001b[31mTypeError\u001b[39m: demo() got some positional-only arguments passed as keyword arguments: 'name'"
     ]
    }
   ],
   "source": [
    "def demo(name, /, age) :\n",
    "     print(f\"Name - {name} | Age - {age}\")\n",
    "\n",
    "demo(\"Jane\", 30) # positional\n",
    "demo(\"Jane\", age = 30) # positional and key-word\n",
    "demo(age = 30, name = \"Jane\") # key-word - Error"
   ]
  },
  {
   "cell_type": "markdown",
   "metadata": {},
   "source": [
    "**Example -**"
   ]
  },
  {
   "cell_type": "code",
   "execution_count": 83,
   "metadata": {},
   "outputs": [
    {
     "name": "stdout",
     "output_type": "stream",
     "text": [
      "Help on method_descriptor:\n",
      "\n",
      "replace(self, old, new, count=-1, /)\n",
      "    Return a copy with all occurrences of substring old replaced by new.\n",
      "\n",
      "      count\n",
      "        Maximum number of occurrences to replace.\n",
      "        -1 (the default value) means replace all occurrences.\n",
      "\n",
      "    If the optional argument count is given, only the first count occurrences are\n",
      "    replaced.\n",
      "\n"
     ]
    }
   ],
   "source": [
    "help(str.replace)"
   ]
  },
  {
   "cell_type": "code",
   "execution_count": 85,
   "metadata": {},
   "outputs": [
    {
     "ename": "TypeError",
     "evalue": "str.replace() takes no keyword arguments",
     "output_type": "error",
     "traceback": [
      "\u001b[31m---------------------------------------------------------------------------\u001b[39m",
      "\u001b[31mTypeError\u001b[39m                                 Traceback (most recent call last)",
      "\u001b[36mCell\u001b[39m\u001b[36m \u001b[39m\u001b[32mIn[85]\u001b[39m\u001b[32m, line 1\u001b[39m\n\u001b[32m----> \u001b[39m\u001b[32m1\u001b[39m \u001b[43mword\u001b[49m\u001b[43m.\u001b[49m\u001b[43mreplace\u001b[49m\u001b[43m(\u001b[49m\u001b[33;43m\"\u001b[39;49m\u001b[33;43mi\u001b[39;49m\u001b[33;43m\"\u001b[39;49m\u001b[43m,\u001b[49m\u001b[43m \u001b[49m\u001b[33;43m\"\u001b[39;49m\u001b[33;43m*\u001b[39;49m\u001b[33;43m\"\u001b[39;49m\u001b[43m,\u001b[49m\u001b[43m \u001b[49m\u001b[43mcount\u001b[49m\u001b[43m \u001b[49m\u001b[43m=\u001b[49m\u001b[43m \u001b[49m\u001b[32;43m2\u001b[39;49m\u001b[43m)\u001b[49m\n",
      "\u001b[31mTypeError\u001b[39m: str.replace() takes no keyword arguments"
     ]
    }
   ],
   "source": [
    "word.replace(\"i\", \"*\", count = 2)"
   ]
  },
  {
   "cell_type": "code",
   "execution_count": 88,
   "metadata": {},
   "outputs": [
    {
     "name": "stdout",
     "output_type": "stream",
     "text": [
      "Name - Jane | Age - 30\n",
      "Name - Jane | Age - 30\n"
     ]
    },
    {
     "ename": "TypeError",
     "evalue": "demo() takes 1 positional argument but 2 were given",
     "output_type": "error",
     "traceback": [
      "\u001b[31m---------------------------------------------------------------------------\u001b[39m",
      "\u001b[31mTypeError\u001b[39m                                 Traceback (most recent call last)",
      "\u001b[36mCell\u001b[39m\u001b[36m \u001b[39m\u001b[32mIn[88]\u001b[39m\u001b[32m, line 6\u001b[39m\n\u001b[32m      4\u001b[39m demo(\u001b[33m\"\u001b[39m\u001b[33mJane\u001b[39m\u001b[33m\"\u001b[39m, age = \u001b[32m30\u001b[39m) \u001b[38;5;66;03m# positional and key-word\u001b[39;00m\n\u001b[32m      5\u001b[39m demo(age = \u001b[32m30\u001b[39m, name = \u001b[33m\"\u001b[39m\u001b[33mJane\u001b[39m\u001b[33m\"\u001b[39m) \u001b[38;5;66;03m# key-word \u001b[39;00m\n\u001b[32m----> \u001b[39m\u001b[32m6\u001b[39m \u001b[43mdemo\u001b[49m\u001b[43m(\u001b[49m\u001b[33;43m\"\u001b[39;49m\u001b[33;43mJane\u001b[39;49m\u001b[33;43m\"\u001b[39;49m\u001b[43m,\u001b[49m\u001b[43m \u001b[49m\u001b[32;43m30\u001b[39;49m\u001b[43m)\u001b[49m \u001b[38;5;66;03m# positional - Error\u001b[39;00m\n",
      "\u001b[31mTypeError\u001b[39m: demo() takes 1 positional argument but 2 were given"
     ]
    }
   ],
   "source": [
    "def demo(name, *, age) :\n",
    "     print(f\"Name - {name} | Age - {age}\")\n",
    "\n",
    "demo(\"Jane\", age = 30) # positional and key-word\n",
    "demo(age = 30, name = \"Jane\") # key-word \n",
    "demo(\"Jane\", 30) # positional - Error"
   ]
  },
  {
   "cell_type": "code",
   "execution_count": 89,
   "metadata": {},
   "outputs": [
    {
     "name": "stdout",
     "output_type": "stream",
     "text": [
      "Help on built-in function sorted in module builtins:\n",
      "\n",
      "sorted(iterable, /, *, key=None, reverse=False)\n",
      "    Return a new list containing all items from the iterable in ascending order.\n",
      "\n",
      "    A custom key function can be supplied to customize the sort order, and the\n",
      "    reverse flag can be set to request the result in descending order.\n",
      "\n"
     ]
    }
   ],
   "source": [
    "help(sorted)"
   ]
  },
  {
   "cell_type": "code",
   "execution_count": 97,
   "metadata": {},
   "outputs": [
    {
     "data": {
      "text/plain": [
       "['flight', 'train', 'bike', 'car']"
      ]
     },
     "execution_count": 97,
     "metadata": {},
     "output_type": "execute_result"
    }
   ],
   "source": [
    "sorted(words, key = len, reverse= True)"
   ]
  },
  {
   "cell_type": "markdown",
   "metadata": {},
   "source": [
    "### Applications of packing and unpacking of tuples"
   ]
  },
  {
   "cell_type": "code",
   "execution_count": 98,
   "metadata": {},
   "outputs": [
    {
     "data": {
      "text/plain": [
       "(1, 2, 3)"
      ]
     },
     "execution_count": 98,
     "metadata": {},
     "output_type": "execute_result"
    }
   ],
   "source": [
    "tup = 1, 2, 3 # packing of tuples\n",
    "tup"
   ]
  },
  {
   "cell_type": "code",
   "execution_count": 100,
   "metadata": {},
   "outputs": [
    {
     "data": {
      "text/plain": [
       "1"
      ]
     },
     "execution_count": 100,
     "metadata": {},
     "output_type": "execute_result"
    }
   ],
   "source": [
    "a, b, c = tup # unpacking of tuples\n",
    "a"
   ]
  },
  {
   "cell_type": "code",
   "execution_count": 101,
   "metadata": {},
   "outputs": [
    {
     "data": {
      "text/plain": [
       "10"
      ]
     },
     "execution_count": 101,
     "metadata": {},
     "output_type": "execute_result"
    }
   ],
   "source": [
    "a, b, c = [10, 20, 30]\n",
    "a"
   ]
  },
  {
   "cell_type": "code",
   "execution_count": 107,
   "metadata": {},
   "outputs": [],
   "source": [
    "a, b, c = {\"Jane\": 20, \"Jack\" : 30, \"George\" : 40}  # assigns the keys"
   ]
  },
  {
   "cell_type": "code",
   "execution_count": 108,
   "metadata": {},
   "outputs": [
    {
     "data": {
      "text/plain": [
       "'Jane'"
      ]
     },
     "execution_count": 108,
     "metadata": {},
     "output_type": "execute_result"
    }
   ],
   "source": [
    "a"
   ]
  },
  {
   "cell_type": "markdown",
   "metadata": {},
   "source": [
    "#### Defining multiple variables in a single line - \n"
   ]
  },
  {
   "cell_type": "code",
   "execution_count": 109,
   "metadata": {},
   "outputs": [
    {
     "name": "stdout",
     "output_type": "stream",
     "text": [
      "Name - Jane | Age - 30\n"
     ]
    }
   ],
   "source": [
    "name, age = \"Jane\", 30  # packing and unpacking the tuples in same line\n",
    "print(f\"Name - {name} | Age - {age}\")"
   ]
  },
  {
   "cell_type": "markdown",
   "metadata": {},
   "source": [
    "#### Unpacking of tuples in for-loop "
   ]
  },
  {
   "cell_type": "code",
   "execution_count": 113,
   "metadata": {},
   "outputs": [
    {
     "name": "stdout",
     "output_type": "stream",
     "text": [
      "1  -  Jane\n",
      "2  -  Jack\n",
      "3  -  George\n",
      "4  -  Rosie\n"
     ]
    }
   ],
   "source": [
    "dct = {1: 'Jane', 2: 'Jack', 3: \"George\", 4 : \"Rosie\"}\n",
    "for i in dct :\n",
    "    print(i, \" - \", dct[i])"
   ]
  },
  {
   "cell_type": "code",
   "execution_count": 116,
   "metadata": {},
   "outputs": [
    {
     "name": "stdout",
     "output_type": "stream",
     "text": [
      "1  -  Jane\n",
      "2  -  Jack\n",
      "3  -  George\n",
      "4  -  Rosie\n"
     ]
    }
   ],
   "source": [
    "dct = {1: 'Jane', 2: 'Jack', 3: \"George\", 4 : \"Rosie\"}\n",
    "for i, j in dct.items() :  # unpacking of tuples\n",
    "    print(i, \" - \", j)"
   ]
  },
  {
   "cell_type": "markdown",
   "metadata": {},
   "source": [
    "#### Function returning multiple values as a tuple object"
   ]
  },
  {
   "cell_type": "code",
   "execution_count": 120,
   "metadata": {},
   "outputs": [],
   "source": [
    "def calculations(num) :\n",
    "    square = num ** 2\n",
    "    cube = num **3\n",
    "    return square, cube  # packing of tuples"
   ]
  },
  {
   "cell_type": "code",
   "execution_count": 125,
   "metadata": {},
   "outputs": [
    {
     "data": {
      "text/plain": [
       "25"
      ]
     },
     "execution_count": 125,
     "metadata": {},
     "output_type": "execute_result"
    }
   ],
   "source": [
    "var1, var2 = calculations(5)  # unpacking of tuples\n",
    "var1"
   ]
  },
  {
   "cell_type": "code",
   "execution_count": 124,
   "metadata": {},
   "outputs": [
    {
     "data": {
      "text/plain": [
       "125"
      ]
     },
     "execution_count": 124,
     "metadata": {},
     "output_type": "execute_result"
    }
   ],
   "source": [
    "var2"
   ]
  },
  {
   "cell_type": "code",
   "execution_count": 129,
   "metadata": {},
   "outputs": [
    {
     "data": {
      "text/plain": [
       "[<matplotlib.lines.Line2D at 0x2928678c8f0>]"
      ]
     },
     "execution_count": 129,
     "metadata": {},
     "output_type": "execute_result"
    },
    {
     "data": {
      "image/png": "[encoded data removed]",
      "text/plain": [
       "<Figure size 640x480 with 2 Axes>"
      ]
     },
     "metadata": {},
     "output_type": "display_data"
    }
   ],
   "source": [
    "fig, axes = plt.subplots(nrows=2) # unpacking of tuples\n",
    "axes[0].plot(dates, sales)"
   ]
  },
  {
   "cell_type": "markdown",
   "metadata": {},
   "source": [
    "#### Unpacking of tuples/dict in function call"
   ]
  },
  {
   "cell_type": "code",
   "execution_count": 131,
   "metadata": {},
   "outputs": [
    {
     "name": "stdout",
     "output_type": "stream",
     "text": [
      "(10, 20, 30, 40)\n"
     ]
    }
   ],
   "source": [
    "def demo(*args) :\n",
    "    print(args)\n",
    "    \n",
    "demo(10, 20, 30, 40)  # packing of tuples"
   ]
  },
  {
   "cell_type": "code",
   "execution_count": 143,
   "metadata": {},
   "outputs": [],
   "source": [
    "def demo_func(name, age, gender) :\n",
    "    print(f\"Name: {name}, Gender: {gender}, Age: {age}\")\n"
   ]
  },
  {
   "cell_type": "code",
   "execution_count": 144,
   "metadata": {},
   "outputs": [
    {
     "name": "stdout",
     "output_type": "stream",
     "text": [
      "Name: Jane, Gender: F, Age: 30\n"
     ]
    }
   ],
   "source": [
    "demo_func(\"Jane\", 30, \"F\")"
   ]
  },
  {
   "cell_type": "code",
   "execution_count": 145,
   "metadata": {},
   "outputs": [],
   "source": [
    "data = [\n",
    "    [\"Alice\", 25, \"Female\"],\n",
    "    [\"Bob\", 30, \"Male\"],\n",
    "    [\"Charlie\", 22, \"Male\"],\n",
    "    [\"Diana\", 27, \"Female\"],\n",
    "    [\"Ethan\", 29, \"Male\"]\n",
    "]\n"
   ]
  },
  {
   "cell_type": "code",
   "execution_count": 146,
   "metadata": {},
   "outputs": [
    {
     "name": "stdout",
     "output_type": "stream",
     "text": [
      "Name: Alice, Gender: Female, Age: 25\n",
      "Name: Bob, Gender: Male, Age: 30\n",
      "Name: Charlie, Gender: Male, Age: 22\n",
      "Name: Diana, Gender: Female, Age: 27\n",
      "Name: Ethan, Gender: Male, Age: 29\n"
     ]
    }
   ],
   "source": [
    "for values in data :\n",
    "    demo_func(*values) # unpacking of tuples/lists"
   ]
  },
  {
   "cell_type": "code",
   "execution_count": 147,
   "metadata": {},
   "outputs": [
    {
     "name": "stdout",
     "output_type": "stream",
     "text": [
      "Name: Alice, Gender: Female, Age: 25\n",
      "Name: Bob, Gender: Male, Age: 30\n",
      "Name: Charlie, Gender: Male, Age: 22\n",
      "Name: Diana, Gender: Female, Age: 27\n",
      "Name: Ethan, Gender: Male, Age: 29\n"
     ]
    }
   ],
   "source": [
    "data_dict = [\n",
    "    {\"name\": \"Alice\", \"gender\": \"Female\", \"age\": 25},\n",
    "    {\"name\": \"Bob\", \"gender\": \"Male\", \"age\": 30},\n",
    "    {\"name\": \"Charlie\", \"gender\": \"Male\", \"age\": 22},\n",
    "    {\"name\": \"Diana\", \"gender\": \"Female\", \"age\": 27},\n",
    "    {\"name\": \"Ethan\", \"gender\": \"Male\", \"age\": 29}\n",
    "]\n",
    "\n",
    "for values in data_dict :\n",
    "    demo_func(**values)   # unpacking of dict"
   ]
  },
  {
   "cell_type": "markdown",
   "metadata": {},
   "source": [
    "<hr><hr>"
   ]
  },
  {
   "cell_type": "markdown",
   "metadata": {
    "id": "xOzcD8n0SL0i"
   },
   "source": [
    "## Basics of NumPy\n",
    "- NumPy - Introduction and Installation\n",
    "- NumPy - Arrays Data Structure ( 1D, 2D, ND arrays)\n",
    "- Creating Arrays\n",
    "- NumPy - Data Types\n",
    "- Array Attributes\n",
    "- Creating Arrays – Alternative Ways\n",
    "- Sub-setting, Slicing and Indexing Arrays\n",
    "- Operations on Arrays\n",
    "- Array Manipulation\n"
   ]
  },
  {
   "cell_type": "markdown",
   "metadata": {
    "id": "LJ7zOREKSL0i"
   },
   "source": [
    "#### NumPy – Introduction and Installation\n",
    "\n",
    "- NumPy stands for ‘Numeric Python’\n",
    "- Used for mathematical and scientific computations\n",
    "- NumPy array is the most widely used object of the NumPy library"
   ]
  },
  {
   "cell_type": "markdown",
   "metadata": {
    "id": "fSezra2YSL0i"
   },
   "source": [
    "#### Installing numpy"
   ]
  },
  {
   "cell_type": "code",
   "execution_count": null,
   "metadata": {
    "id": "fSezra2YSL0i"
   },
   "outputs": [],
   "source": [
    "pip install numpy\n",
    "pip install pandas\n",
    "pip install matplotlib\n",
    "pip install seaborn"
   ]
  },
  {
   "cell_type": "markdown",
   "metadata": {
    "id": "NcOwNJMxSL0j"
   },
   "source": [
    "#### Importing Libraries"
   ]
  },
  {
   "cell_type": "code",
   "execution_count": 148,
   "metadata": {
    "id": "jbeQqcTmSL0j"
   },
   "outputs": [],
   "source": [
    "import numpy as np\n",
    "import pandas as pd\n",
    "import matplotlib.pyplot as plt\n",
    "import seaborn as sns"
   ]
  },
  {
   "cell_type": "markdown",
   "metadata": {
    "id": "ROKFWY3TSL0j"
   },
   "source": [
    "### Arrays Data Structure\n",
    "\n",
    "An `Array` is combination of homogenous data objects and can be indexed across multiple dimensions\n",
    "\n",
    "#### Arrays are –\n",
    "- ordered sequence/collection of Homogenous data\n",
    "- multidimensional\n",
    "- mutable\n"
   ]
  },
  {
   "cell_type": "markdown",
   "metadata": {
    "id": "vJdSsW-BSL0j"
   },
   "source": [
    "#### Creating Arrays – From list/tuple\n",
    "\n",
    "- `np.array()` is used to create a numpy array from a list\n"
   ]
  },
  {
   "cell_type": "markdown",
   "metadata": {
    "id": "KFMx5EjWSL0j"
   },
   "source": [
    "#### Example on 1-D Array"
   ]
  },
  {
   "cell_type": "code",
   "execution_count": 149,
   "metadata": {
    "id": "oU0mEtv2SL0k"
   },
   "outputs": [
    {
     "data": {
      "text/plain": [
       "array([1, 2, 3, 4, 5])"
      ]
     },
     "execution_count": 149,
     "metadata": {},
     "output_type": "execute_result"
    }
   ],
   "source": [
    "arr = np.array([1, 2, 3, 4, 5])\n",
    "arr"
   ]
  },
  {
   "cell_type": "markdown",
   "metadata": {
    "id": "69nYrHhdSL0k"
   },
   "source": [
    "#### Example on 2-D Array"
   ]
  },
  {
   "cell_type": "code",
   "execution_count": 150,
   "metadata": {
    "id": "bFqhOlvKSL0k"
   },
   "outputs": [
    {
     "data": {
      "text/plain": [
       "array([[ 1,  2,  3,  4,  5],\n",
       "       [ 6,  7,  8,  9, 10]])"
      ]
     },
     "execution_count": 150,
     "metadata": {},
     "output_type": "execute_result"
    }
   ],
   "source": [
    "arr = np.array([[1, 2, 3, 4, 5], [6, 7, 8, 9, 10]])\n",
    "arr"
   ]
  },
  {
   "cell_type": "markdown",
   "metadata": {
    "id": "SyU2wAzwSL0o"
   },
   "source": [
    "### Array Attributes\n",
    "\n",
    "- Attributes are the features/characteristics of an object that describes the object\n",
    "\n",
    "- Some of the attributes of the numpy array are:\n",
    "    - **shape** - Array dimensions\n",
    "    - **size** - Number of array elements\n",
    "    - **dtype** - Data type of array elements\n",
    "    - **ndim** - Number of array dimensions\n",
    "    - **dtype.name** - Name of data type\n",
    "    - **astype** - Convert an array to a different type\n"
   ]
  },
  {
   "cell_type": "code",
   "execution_count": 151,
   "metadata": {
    "id": "s9MiADM0SL0p"
   },
   "outputs": [
    {
     "data": {
      "text/plain": [
       "array([[ 1,  2,  3,  4],\n",
       "       [ 5,  6,  7,  8],\n",
       "       [ 9, 10, 11, 12]])"
      ]
     },
     "execution_count": 151,
     "metadata": {},
     "output_type": "execute_result"
    }
   ],
   "source": [
    "arr = np.array([[1,2,3,4],[5,6,7,8],[9,10,11,12]])\n",
    "arr"
   ]
  },
  {
   "cell_type": "code",
   "execution_count": 152,
   "metadata": {
    "id": "tsamJYYFSL0p"
   },
   "outputs": [
    {
     "data": {
      "text/plain": [
       "(3, 4)"
      ]
     },
     "execution_count": 152,
     "metadata": {},
     "output_type": "execute_result"
    }
   ],
   "source": [
    "arr.shape  # - (row, cols)"
   ]
  },
  {
   "cell_type": "code",
   "execution_count": 153,
   "metadata": {
    "id": "vCvDRDdESL0q"
   },
   "outputs": [
    {
     "data": {
      "text/plain": [
       "12"
      ]
     },
     "execution_count": 153,
     "metadata": {},
     "output_type": "execute_result"
    }
   ],
   "source": [
    "arr.size"
   ]
  },
  {
   "cell_type": "code",
   "execution_count": 154,
   "metadata": {
    "id": "jf04b9bMSL0q"
   },
   "outputs": [
    {
     "data": {
      "text/plain": [
       "2"
      ]
     },
     "execution_count": 154,
     "metadata": {},
     "output_type": "execute_result"
    }
   ],
   "source": [
    "arr.ndim"
   ]
  },
  {
   "cell_type": "code",
   "execution_count": 155,
   "metadata": {
    "id": "T39NHKUfSL0q"
   },
   "outputs": [
    {
     "data": {
      "text/plain": [
       "dtype('int64')"
      ]
     },
     "execution_count": 155,
     "metadata": {},
     "output_type": "execute_result"
    }
   ],
   "source": [
    "arr.dtype"
   ]
  },
  {
   "cell_type": "code",
   "execution_count": 156,
   "metadata": {
    "id": "2_Lpf6lISL0r"
   },
   "outputs": [
    {
     "data": {
      "text/plain": [
       "array([[ 1.,  2.,  3.,  4.],\n",
       "       [ 5.,  6.,  7.,  8.],\n",
       "       [ 9., 10., 11., 12.]])"
      ]
     },
     "execution_count": 156,
     "metadata": {},
     "output_type": "execute_result"
    }
   ],
   "source": [
    "arr.astype(float)"
   ]
  },
  {
   "cell_type": "markdown",
   "metadata": {
    "id": "JF39DOA2SL0r"
   },
   "source": [
    "### Indexing, Slicing and Boolen Indexing"
   ]
  },
  {
   "cell_type": "code",
   "execution_count": 157,
   "metadata": {
    "id": "w0wK9_kOSL0r"
   },
   "outputs": [
    {
     "data": {
      "text/plain": [
       "array([ 9, 21, 40, 36, 25, 19, 40, 11, 31, 14], dtype=int32)"
      ]
     },
     "execution_count": 157,
     "metadata": {},
     "output_type": "execute_result"
    }
   ],
   "source": [
    "arr = np.random.randint(5, 50, size = 10)\n",
    "arr"
   ]
  },
  {
   "cell_type": "markdown",
   "metadata": {
    "id": "yODYAc7iSL0u"
   },
   "source": [
    "#### 1-D Arrays"
   ]
  },
  {
   "cell_type": "markdown",
   "metadata": {
    "id": "dAJTxG88SL0u"
   },
   "source": [
    "###### Ex. Extract first 3 elements"
   ]
  },
  {
   "cell_type": "code",
   "execution_count": 158,
   "metadata": {
    "id": "DutZE2c9SL0v"
   },
   "outputs": [
    {
     "data": {
      "text/plain": [
       "array([ 9, 21, 40], dtype=int32)"
      ]
     },
     "execution_count": 158,
     "metadata": {},
     "output_type": "execute_result"
    }
   ],
   "source": [
    "arr[0:3] # Slicing"
   ]
  },
  {
   "cell_type": "markdown",
   "metadata": {
    "id": "Uhah9JyBSL0v"
   },
   "source": [
    "###### Ex. Extract last 5 elements"
   ]
  },
  {
   "cell_type": "code",
   "execution_count": 159,
   "metadata": {
    "id": "1PNWHks3SL0v"
   },
   "outputs": [
    {
     "data": {
      "text/plain": [
       "array([19, 40, 11, 31, 14], dtype=int32)"
      ]
     },
     "execution_count": 159,
     "metadata": {},
     "output_type": "execute_result"
    }
   ],
   "source": [
    "arr[-5 : ] # Slicing"
   ]
  },
  {
   "cell_type": "markdown",
   "metadata": {},
   "source": [
    "###### Ex. Extract element at position 2"
   ]
  },
  {
   "cell_type": "code",
   "execution_count": 160,
   "metadata": {},
   "outputs": [
    {
     "data": {
      "text/plain": [
       "np.int32(40)"
      ]
     },
     "execution_count": 160,
     "metadata": {},
     "output_type": "execute_result"
    }
   ],
   "source": [
    "arr[2]  # indexing"
   ]
  },
  {
   "cell_type": "markdown",
   "metadata": {
    "id": "nGjuAzZHSL0v"
   },
   "source": [
    "###### Ex. Extract elements at index position 2, 5, 9."
   ]
  },
  {
   "cell_type": "code",
   "execution_count": 162,
   "metadata": {
    "id": "lDjyIKdJSL0v"
   },
   "outputs": [
    {
     "data": {
      "text/plain": [
       "array([40, 19, 14], dtype=int32)"
      ]
     },
     "execution_count": 162,
     "metadata": {},
     "output_type": "execute_result"
    }
   ],
   "source": [
    "arr[[2, 5, 9]]"
   ]
  },
  {
   "cell_type": "markdown",
   "metadata": {
    "id": "IuRLmBMNSL0w"
   },
   "source": [
    "###### Ex. Extract elements less than 20"
   ]
  },
  {
   "cell_type": "code",
   "execution_count": 163,
   "metadata": {},
   "outputs": [
    {
     "data": {
      "text/plain": [
       "array([ True, False, False, False, False,  True, False,  True, False,\n",
       "        True])"
      ]
     },
     "execution_count": 163,
     "metadata": {},
     "output_type": "execute_result"
    }
   ],
   "source": [
    "arr < 20  # Bool Array"
   ]
  },
  {
   "cell_type": "code",
   "execution_count": 165,
   "metadata": {},
   "outputs": [
    {
     "data": {
      "text/plain": [
       "array([ 9, 19, 11, 14], dtype=int32)"
      ]
     },
     "execution_count": 165,
     "metadata": {},
     "output_type": "execute_result"
    }
   ],
   "source": [
    "arr[arr < 20] # Conditional indexing / filtering"
   ]
  },
  {
   "cell_type": "markdown",
   "metadata": {
    "id": "mLixUpi0SL0w"
   },
   "source": [
    "### 2-D Arrays"
   ]
  },
  {
   "cell_type": "code",
   "execution_count": 166,
   "metadata": {
    "id": "HtpgnYXSSL0w"
   },
   "outputs": [
    {
     "data": {
      "text/plain": [
       "array([[22, 35, 16, 33],\n",
       "       [41, 24, 33, 38],\n",
       "       [28, 48, 36, 18],\n",
       "       [10, 10, 13, 18],\n",
       "       [ 8, 30, 28, 38],\n",
       "       [15, 21, 45, 37]], dtype=int32)"
      ]
     },
     "execution_count": 166,
     "metadata": {},
     "output_type": "execute_result"
    }
   ],
   "source": [
    "arr = np.random.randint(5, 50, size = (6,4))\n",
    "arr"
   ]
  },
  {
   "cell_type": "markdown",
   "metadata": {
    "id": "m_vUEuzbSL0x"
   },
   "source": [
    "###### Ex. Extract first 3 rows"
   ]
  },
  {
   "cell_type": "code",
   "execution_count": 167,
   "metadata": {
    "id": "9fOmVOtdSL0x"
   },
   "outputs": [
    {
     "data": {
      "text/plain": [
       "array([[22, 35, 16, 33],\n",
       "       [41, 24, 33, 38],\n",
       "       [28, 48, 36, 18]], dtype=int32)"
      ]
     },
     "execution_count": 167,
     "metadata": {},
     "output_type": "execute_result"
    }
   ],
   "source": [
    "arr[0:3]"
   ]
  },
  {
   "cell_type": "markdown",
   "metadata": {
    "id": "Ea2Yy2HDSL0x"
   },
   "source": [
    "###### Ex. Extract last 2 rows"
   ]
  },
  {
   "cell_type": "code",
   "execution_count": 168,
   "metadata": {
    "id": "Xs_Cwn-ZSL0x"
   },
   "outputs": [
    {
     "data": {
      "text/plain": [
       "array([[ 8, 30, 28, 38],\n",
       "       [15, 21, 45, 37]], dtype=int32)"
      ]
     },
     "execution_count": 168,
     "metadata": {},
     "output_type": "execute_result"
    }
   ],
   "source": [
    "arr[-2 :]"
   ]
  },
  {
   "cell_type": "markdown",
   "metadata": {
    "id": "lgo1AB3ESL0x"
   },
   "source": [
    "###### Ex. Extract column at index 1"
   ]
  },
  {
   "cell_type": "code",
   "execution_count": 169,
   "metadata": {
    "id": "p8au-IOpSL0y"
   },
   "outputs": [
    {
     "data": {
      "text/plain": [
       "array([35, 24, 48, 10, 30, 21], dtype=int32)"
      ]
     },
     "execution_count": 169,
     "metadata": {},
     "output_type": "execute_result"
    }
   ],
   "source": [
    "arr[ : , 1]  # returns 1D array"
   ]
  },
  {
   "cell_type": "markdown",
   "metadata": {
    "id": "rFF5yf_VSL0y"
   },
   "source": [
    "###### Ex. Extract row 2 and 3 and column 2 and 3 (index-wise)"
   ]
  },
  {
   "cell_type": "code",
   "execution_count": 170,
   "metadata": {
    "id": "CsnE4pTDSL0y"
   },
   "outputs": [
    {
     "data": {
      "text/plain": [
       "array([[36, 18],\n",
       "       [13, 18]], dtype=int32)"
      ]
     },
     "execution_count": 170,
     "metadata": {},
     "output_type": "execute_result"
    }
   ],
   "source": [
    "arr[2:4, 2:4]"
   ]
  },
  {
   "cell_type": "markdown",
   "metadata": {
    "id": "zKiuKqHrSL0z"
   },
   "source": [
    "###### Ex. Extract values less than 25"
   ]
  },
  {
   "cell_type": "code",
   "execution_count": 172,
   "metadata": {
    "id": "9E1oeOkISL0z"
   },
   "outputs": [
    {
     "data": {
      "text/plain": [
       "array([22, 16, 24, 18, 10, 10, 13, 18,  8, 15, 21], dtype=int32)"
      ]
     },
     "execution_count": 172,
     "metadata": {},
     "output_type": "execute_result"
    }
   ],
   "source": [
    "arr[arr < 25]"
   ]
  },
  {
   "cell_type": "markdown",
   "metadata": {
    "id": "sXaOomI2SL0z"
   },
   "source": [
    "###### Ex. Identify largest value. Extract values less than half of largest values"
   ]
  },
  {
   "cell_type": "code",
   "execution_count": 174,
   "metadata": {
    "id": "XXpP7USOSL01"
   },
   "outputs": [
    {
     "data": {
      "text/plain": [
       "array([22, 16, 18, 10, 10, 13, 18,  8, 15, 21], dtype=int32)"
      ]
     },
     "execution_count": 174,
     "metadata": {},
     "output_type": "execute_result"
    }
   ],
   "source": [
    "arr[arr < np.max(arr)/2]"
   ]
  },
  {
   "cell_type": "markdown",
   "metadata": {},
   "source": [
    "##### Note - Single row, single column or filtered values will always generate 1D array"
   ]
  },
  {
   "cell_type": "code",
   "execution_count": 219,
   "metadata": {},
   "outputs": [
    {
     "data": {
      "text/plain": [
       "array([[22, 35, 16, 33],\n",
       "       [41, 24, 33, 38],\n",
       "       [28, 48, 36, 18],\n",
       "       [10, 10, 13, 18],\n",
       "       [ 8, 30, 28, 38],\n",
       "       [15, 21, 45, 37]], dtype=int32)"
      ]
     },
     "execution_count": 219,
     "metadata": {},
     "output_type": "execute_result"
    }
   ],
   "source": [
    "arr"
   ]
  },
  {
   "cell_type": "code",
   "execution_count": 220,
   "metadata": {},
   "outputs": [],
   "source": [
    "arr[arr < 25] = 0"
   ]
  },
  {
   "cell_type": "code",
   "execution_count": 221,
   "metadata": {},
   "outputs": [
    {
     "data": {
      "text/plain": [
       "array([[ 0, 35,  0, 33],\n",
       "       [41,  0, 33, 38],\n",
       "       [28, 48, 36,  0],\n",
       "       [ 0,  0,  0,  0],\n",
       "       [ 0, 30, 28, 38],\n",
       "       [ 0,  0, 45, 37]], dtype=int32)"
      ]
     },
     "execution_count": 221,
     "metadata": {},
     "output_type": "execute_result"
    }
   ],
   "source": [
    "arr"
   ]
  },
  {
   "cell_type": "markdown",
   "metadata": {
    "id": "fL2XoRrBSL07"
   },
   "source": [
    "### Array Operations"
   ]
  },
  {
   "cell_type": "markdown",
   "metadata": {
    "id": "g8EECkQKSL08"
   },
   "source": [
    "#### Arithmetic operations on Arrays -\n",
    " - Addition, Substraction, Multiplication, Division, etc.\n",
    " - Operations on array and a scalar value\n",
    " - Operations between two arrays\n",
    " - Matrix Operations - Multiplication(np.dot()), Transpose(np.transpose())\n"
   ]
  },
  {
   "cell_type": "markdown",
   "metadata": {
    "id": "R4EU3ag3SL09"
   },
   "source": [
    "#### Array and Scalar"
   ]
  },
  {
   "cell_type": "code",
   "execution_count": 175,
   "metadata": {
    "id": "1iA_t7hFSL09"
   },
   "outputs": [
    {
     "data": {
      "text/plain": [
       "array([9, 4, 5, 2, 6], dtype=int32)"
      ]
     },
     "execution_count": 175,
     "metadata": {},
     "output_type": "execute_result"
    }
   ],
   "source": [
    "arr1 = np.random.randint(1,10,size = 5)\n",
    "arr1"
   ]
  },
  {
   "cell_type": "code",
   "execution_count": 176,
   "metadata": {
    "id": "2qrteupNSL09"
   },
   "outputs": [
    {
     "data": {
      "text/plain": [
       "array([14,  9, 10,  7, 11], dtype=int32)"
      ]
     },
     "execution_count": 176,
     "metadata": {},
     "output_type": "execute_result"
    }
   ],
   "source": [
    "arr1 + 5 # Addition"
   ]
  },
  {
   "cell_type": "code",
   "execution_count": 177,
   "metadata": {
    "id": "7m2YLJDwSL09"
   },
   "outputs": [
    {
     "data": {
      "text/plain": [
       "array([ 4, -1,  0, -3,  1], dtype=int32)"
      ]
     },
     "execution_count": 177,
     "metadata": {},
     "output_type": "execute_result"
    }
   ],
   "source": [
    "arr1 - 5 # Substraction"
   ]
  },
  {
   "cell_type": "code",
   "execution_count": 178,
   "metadata": {
    "id": "WZdyCcBaSL0-"
   },
   "outputs": [
    {
     "data": {
      "text/plain": [
       "array([45, 20, 25, 10, 30], dtype=int32)"
      ]
     },
     "execution_count": 178,
     "metadata": {},
     "output_type": "execute_result"
    }
   ],
   "source": [
    "arr1 * 5 # Multiplication"
   ]
  },
  {
   "cell_type": "code",
   "execution_count": 179,
   "metadata": {
    "id": "mAY1w9a4SL0-"
   },
   "outputs": [
    {
     "data": {
      "text/plain": [
       "array([1.8, 0.8, 1. , 0.4, 1.2])"
      ]
     },
     "execution_count": 179,
     "metadata": {},
     "output_type": "execute_result"
    }
   ],
   "source": [
    "arr1 / 5 # Division"
   ]
  },
  {
   "cell_type": "code",
   "execution_count": 180,
   "metadata": {
    "id": "GpOMqLWaSL0-"
   },
   "outputs": [
    {
     "data": {
      "text/plain": [
       "array([1, 0, 1, 0, 1], dtype=int32)"
      ]
     },
     "execution_count": 180,
     "metadata": {},
     "output_type": "execute_result"
    }
   ],
   "source": [
    "arr1 // 5 # Floor Division"
   ]
  },
  {
   "cell_type": "code",
   "execution_count": 181,
   "metadata": {
    "id": "wFbDqcnxSL0-"
   },
   "outputs": [
    {
     "data": {
      "text/plain": [
       "array([4, 4, 0, 2, 1], dtype=int32)"
      ]
     },
     "execution_count": 181,
     "metadata": {},
     "output_type": "execute_result"
    }
   ],
   "source": [
    "arr1 % 5 # Modulus"
   ]
  },
  {
   "cell_type": "markdown",
   "metadata": {
    "id": "sRLJ1oBhSL0-"
   },
   "source": [
    "#### Two Arrays\n",
    "- both arrays must be of same length"
   ]
  },
  {
   "cell_type": "code",
   "execution_count": 182,
   "metadata": {
    "id": "APmPJ9P4SL0_"
   },
   "outputs": [
    {
     "data": {
      "text/plain": [
       "array([9, 6, 7, 8, 3], dtype=int32)"
      ]
     },
     "execution_count": 182,
     "metadata": {},
     "output_type": "execute_result"
    }
   ],
   "source": [
    "arr1 = np.random.randint(1,10,size = 5)\n",
    "arr1"
   ]
  },
  {
   "cell_type": "code",
   "execution_count": 183,
   "metadata": {
    "id": "lqqwcLVNSL1A"
   },
   "outputs": [
    {
     "data": {
      "text/plain": [
       "array([8, 6, 3, 7, 7], dtype=int32)"
      ]
     },
     "execution_count": 183,
     "metadata": {},
     "output_type": "execute_result"
    }
   ],
   "source": [
    "arr2 = np.random.randint(1,10,size = 5)\n",
    "arr2"
   ]
  },
  {
   "cell_type": "code",
   "execution_count": 184,
   "metadata": {
    "id": "Icrg6invSL1A"
   },
   "outputs": [
    {
     "data": {
      "text/plain": [
       "array([17, 12, 10, 15, 10], dtype=int32)"
      ]
     },
     "execution_count": 184,
     "metadata": {},
     "output_type": "execute_result"
    }
   ],
   "source": [
    "arr1 + arr2 # Addition"
   ]
  },
  {
   "cell_type": "code",
   "execution_count": 185,
   "metadata": {
    "id": "gCG2nLndSL1B"
   },
   "outputs": [
    {
     "data": {
      "text/plain": [
       "array([ 1,  0,  4,  1, -4], dtype=int32)"
      ]
     },
     "execution_count": 185,
     "metadata": {},
     "output_type": "execute_result"
    }
   ],
   "source": [
    "arr1 - arr2 # Substraction"
   ]
  },
  {
   "cell_type": "code",
   "execution_count": 186,
   "metadata": {
    "id": "uqcUDPGjSL1C"
   },
   "outputs": [
    {
     "data": {
      "text/plain": [
       "array([72, 36, 21, 56, 21], dtype=int32)"
      ]
     },
     "execution_count": 186,
     "metadata": {},
     "output_type": "execute_result"
    }
   ],
   "source": [
    "arr1 * arr2 # Multiplication"
   ]
  },
  {
   "cell_type": "code",
   "execution_count": 187,
   "metadata": {
    "id": "eGRzXiMUSL1C"
   },
   "outputs": [
    {
     "data": {
      "text/plain": [
       "array([1.125     , 1.        , 2.33333333, 1.14285714, 0.42857143])"
      ]
     },
     "execution_count": 187,
     "metadata": {},
     "output_type": "execute_result"
    }
   ],
   "source": [
    "arr1 / arr2 # Division"
   ]
  },
  {
   "cell_type": "code",
   "execution_count": 188,
   "metadata": {
    "id": "xv1ue7W3SL1D"
   },
   "outputs": [
    {
     "data": {
      "text/plain": [
       "array([1, 1, 2, 1, 0], dtype=int32)"
      ]
     },
     "execution_count": 188,
     "metadata": {},
     "output_type": "execute_result"
    }
   ],
   "source": [
    "arr1 // arr2 # Floor Division"
   ]
  },
  {
   "cell_type": "code",
   "execution_count": 189,
   "metadata": {
    "id": "QEVSfPoHSL1D"
   },
   "outputs": [
    {
     "data": {
      "text/plain": [
       "array([1, 0, 1, 1, 3], dtype=int32)"
      ]
     },
     "execution_count": 189,
     "metadata": {},
     "output_type": "execute_result"
    }
   ],
   "source": [
    "arr1 % arr2 # Modulus"
   ]
  },
  {
   "cell_type": "markdown",
   "metadata": {
    "id": "I7MMbiDUSL1D"
   },
   "source": [
    "#### Relational operations on Arrays -\n",
    " - ==, !=, <, >, <=, >=\n",
    " - Operations on array and a scalar value\n",
    " - Operations between two arrays"
   ]
  },
  {
   "cell_type": "markdown",
   "metadata": {
    "id": "risXX05xSL1E"
   },
   "source": [
    "#### Array and Scalar"
   ]
  },
  {
   "cell_type": "code",
   "execution_count": 190,
   "metadata": {
    "id": "RG6UknSxSL1E"
   },
   "outputs": [
    {
     "data": {
      "text/plain": [
       "array([7, 7, 7, 5, 3], dtype=int32)"
      ]
     },
     "execution_count": 190,
     "metadata": {},
     "output_type": "execute_result"
    }
   ],
   "source": [
    "arr1 = np.random.randint(1,10,size = 5)\n",
    "arr1"
   ]
  },
  {
   "cell_type": "code",
   "execution_count": 191,
   "metadata": {
    "id": "CMv1sBdxSL1E"
   },
   "outputs": [
    {
     "data": {
      "text/plain": [
       "array([False, False, False,  True, False])"
      ]
     },
     "execution_count": 191,
     "metadata": {},
     "output_type": "execute_result"
    }
   ],
   "source": [
    "arr1 == 5"
   ]
  },
  {
   "cell_type": "code",
   "execution_count": 192,
   "metadata": {
    "id": "MFce5HMESL1M"
   },
   "outputs": [
    {
     "data": {
      "text/plain": [
       "array([ True,  True,  True, False,  True])"
      ]
     },
     "execution_count": 192,
     "metadata": {},
     "output_type": "execute_result"
    }
   ],
   "source": [
    "arr1 != 5"
   ]
  },
  {
   "cell_type": "code",
   "execution_count": 193,
   "metadata": {
    "id": "r884EP-vSL1M"
   },
   "outputs": [
    {
     "data": {
      "text/plain": [
       "array([False, False, False, False,  True])"
      ]
     },
     "execution_count": 193,
     "metadata": {},
     "output_type": "execute_result"
    }
   ],
   "source": [
    "arr1 < 5"
   ]
  },
  {
   "cell_type": "code",
   "execution_count": 194,
   "metadata": {
    "id": "zP_0B3XXSL1M"
   },
   "outputs": [
    {
     "data": {
      "text/plain": [
       "array([ True,  True,  True, False, False])"
      ]
     },
     "execution_count": 194,
     "metadata": {},
     "output_type": "execute_result"
    }
   ],
   "source": [
    "arr1 > 5"
   ]
  },
  {
   "cell_type": "code",
   "execution_count": 195,
   "metadata": {
    "id": "UuR2SeMaSL1M"
   },
   "outputs": [
    {
     "data": {
      "text/plain": [
       "array([False, False, False,  True,  True])"
      ]
     },
     "execution_count": 195,
     "metadata": {},
     "output_type": "execute_result"
    }
   ],
   "source": [
    "arr1 <= 5"
   ]
  },
  {
   "cell_type": "code",
   "execution_count": 196,
   "metadata": {
    "id": "2CCAoZQRSL1M"
   },
   "outputs": [
    {
     "data": {
      "text/plain": [
       "array([ True,  True,  True,  True, False])"
      ]
     },
     "execution_count": 196,
     "metadata": {},
     "output_type": "execute_result"
    }
   ],
   "source": [
    "arr1 >= 5"
   ]
  },
  {
   "cell_type": "markdown",
   "metadata": {
    "id": "w3NB0RylSL1N"
   },
   "source": [
    "#### Two Arrays"
   ]
  },
  {
   "cell_type": "code",
   "execution_count": 197,
   "metadata": {
    "id": "er1RGQtbSL1N"
   },
   "outputs": [
    {
     "data": {
      "text/plain": [
       "array([9, 6, 9, 5, 3], dtype=int32)"
      ]
     },
     "execution_count": 197,
     "metadata": {},
     "output_type": "execute_result"
    }
   ],
   "source": [
    "arr1 = np.random.randint(1,10,size = 5)\n",
    "arr1"
   ]
  },
  {
   "cell_type": "code",
   "execution_count": 198,
   "metadata": {
    "id": "e1IoaYKPSL1N"
   },
   "outputs": [
    {
     "data": {
      "text/plain": [
       "array([2, 4, 7, 9, 5], dtype=int32)"
      ]
     },
     "execution_count": 198,
     "metadata": {},
     "output_type": "execute_result"
    }
   ],
   "source": [
    "arr2 = np.random.randint(1,10,size = 5)\n",
    "arr2"
   ]
  },
  {
   "cell_type": "code",
   "execution_count": 199,
   "metadata": {
    "id": "BxafJwk4SL1O"
   },
   "outputs": [
    {
     "data": {
      "text/plain": [
       "array([False, False, False, False, False])"
      ]
     },
     "execution_count": 199,
     "metadata": {},
     "output_type": "execute_result"
    }
   ],
   "source": [
    "arr1 == arr2"
   ]
  },
  {
   "cell_type": "code",
   "execution_count": 200,
   "metadata": {
    "id": "tFH3rjbGSL1O"
   },
   "outputs": [
    {
     "data": {
      "text/plain": [
       "array([ True,  True,  True,  True,  True])"
      ]
     },
     "execution_count": 200,
     "metadata": {},
     "output_type": "execute_result"
    }
   ],
   "source": [
    "arr1 != arr2"
   ]
  },
  {
   "cell_type": "code",
   "execution_count": 201,
   "metadata": {
    "id": "20PlGh-3SL1O"
   },
   "outputs": [
    {
     "data": {
      "text/plain": [
       "array([False, False, False,  True,  True])"
      ]
     },
     "execution_count": 201,
     "metadata": {},
     "output_type": "execute_result"
    }
   ],
   "source": [
    "arr1 < arr2"
   ]
  },
  {
   "cell_type": "code",
   "execution_count": 202,
   "metadata": {
    "id": "w_286kkxSL1O"
   },
   "outputs": [
    {
     "data": {
      "text/plain": [
       "array([ True,  True,  True, False, False])"
      ]
     },
     "execution_count": 202,
     "metadata": {},
     "output_type": "execute_result"
    }
   ],
   "source": [
    "arr1 > arr2"
   ]
  },
  {
   "cell_type": "code",
   "execution_count": 203,
   "metadata": {
    "id": "GYgNtmYoSL1O"
   },
   "outputs": [
    {
     "data": {
      "text/plain": [
       "array([False, False, False,  True,  True])"
      ]
     },
     "execution_count": 203,
     "metadata": {},
     "output_type": "execute_result"
    }
   ],
   "source": [
    "arr1 <= arr2"
   ]
  },
  {
   "cell_type": "code",
   "execution_count": 204,
   "metadata": {
    "id": "1VHrwXl1SL1O"
   },
   "outputs": [
    {
     "data": {
      "text/plain": [
       "array([ True,  True,  True, False, False])"
      ]
     },
     "execution_count": 204,
     "metadata": {},
     "output_type": "execute_result"
    }
   ],
   "source": [
    "arr1 >= arr2"
   ]
  },
  {
   "cell_type": "markdown",
   "metadata": {
    "id": "Y55RGzk3SL1P"
   },
   "source": [
    "#### Logical operations on Arrays -\n",
    " - np.logical_or()\n",
    " - np.logical_and()\n",
    " - np.logical_not()\n",
    " - np.logical_xor()"
   ]
  },
  {
   "cell_type": "code",
   "execution_count": 205,
   "metadata": {
    "id": "r6tvDGICSL1P"
   },
   "outputs": [
    {
     "data": {
      "text/plain": [
       "array([9, 5, 3, 7, 9], dtype=int32)"
      ]
     },
     "execution_count": 205,
     "metadata": {},
     "output_type": "execute_result"
    }
   ],
   "source": [
    "arr1 = np.random.randint(1,10,size = 5)\n",
    "arr1"
   ]
  },
  {
   "cell_type": "code",
   "execution_count": 206,
   "metadata": {
    "id": "8-nIMvyRSL1P"
   },
   "outputs": [
    {
     "data": {
      "text/plain": [
       "array([9, 2, 9, 2, 7], dtype=int32)"
      ]
     },
     "execution_count": 206,
     "metadata": {},
     "output_type": "execute_result"
    }
   ],
   "source": [
    "arr2 = np.random.randint(1,10,size = 5)\n",
    "arr2"
   ]
  },
  {
   "cell_type": "code",
   "execution_count": 207,
   "metadata": {
    "id": "BLIWNGK_SL1Q"
   },
   "outputs": [
    {
     "data": {
      "text/plain": [
       "array([ True, False, False, False,  True])"
      ]
     },
     "execution_count": 207,
     "metadata": {},
     "output_type": "execute_result"
    }
   ],
   "source": [
    "np.logical_and(arr1 > 5, arr2 > 5)"
   ]
  },
  {
   "cell_type": "code",
   "execution_count": 208,
   "metadata": {
    "id": "K_NhIUWpSL1Q"
   },
   "outputs": [
    {
     "data": {
      "text/plain": [
       "array([ True, False,  True,  True,  True])"
      ]
     },
     "execution_count": 208,
     "metadata": {},
     "output_type": "execute_result"
    }
   ],
   "source": [
    "np.logical_or(arr1 > 5, arr2 > 5)"
   ]
  },
  {
   "cell_type": "code",
   "execution_count": 209,
   "metadata": {
    "id": "wrdhpg4xSL1Q"
   },
   "outputs": [
    {
     "data": {
      "text/plain": [
       "array([False,  True,  True, False, False])"
      ]
     },
     "execution_count": 209,
     "metadata": {},
     "output_type": "execute_result"
    }
   ],
   "source": [
    "np.logical_not(arr1 > 5)"
   ]
  },
  {
   "cell_type": "code",
   "execution_count": 210,
   "metadata": {
    "id": "l7EPY8FISL1Q"
   },
   "outputs": [
    {
     "data": {
      "text/plain": [
       "array([False, False,  True,  True, False])"
      ]
     },
     "execution_count": 210,
     "metadata": {},
     "output_type": "execute_result"
    }
   ],
   "source": [
    "np.logical_xor(arr1 > 5, arr2 > 5)"
   ]
  },
  {
   "cell_type": "markdown",
   "metadata": {
    "id": "kAETb-iDSL1Q"
   },
   "source": [
    "#### Set Operations on Arrays\n",
    "\n",
    "Applicable to 1-D Ararys only\n",
    "\n",
    "- np.unique() - Find the unique elements of an array.\n",
    "- np.in1d()/np.isin() - Test whether each element of a 1-D array is also present in a second array.\n",
    "- np.intersect1d() - Find the intersection of two arrays.\n",
    "- np.setdiff1d() - Find the set difference of two arrays.\n",
    "- np.union1d() - Find the union of two arrays."
   ]
  },
  {
   "cell_type": "code",
   "execution_count": 227,
   "metadata": {
    "id": "30d56VmZSL1Q"
   },
   "outputs": [
    {
     "data": {
      "text/plain": [
       "array([3, 5, 1, 5, 9, 9, 3, 1, 5, 9], dtype=int32)"
      ]
     },
     "execution_count": 227,
     "metadata": {},
     "output_type": "execute_result"
    }
   ],
   "source": [
    "arr1 = np.random.randint(1, 10, size = 10)\n",
    "arr1"
   ]
  },
  {
   "cell_type": "code",
   "execution_count": 228,
   "metadata": {},
   "outputs": [
    {
     "data": {
      "text/plain": [
       "array([1, 3, 5, 9], dtype=int32)"
      ]
     },
     "execution_count": 228,
     "metadata": {},
     "output_type": "execute_result"
    }
   ],
   "source": [
    "np.unique(arr1)"
   ]
  },
  {
   "cell_type": "code",
   "execution_count": 229,
   "metadata": {},
   "outputs": [
    {
     "data": {
      "text/plain": [
       "(array([1, 3, 5, 9], dtype=int32), array([2, 0, 1, 4]), array([2, 2, 3, 3]))"
      ]
     },
     "execution_count": 229,
     "metadata": {},
     "output_type": "execute_result"
    }
   ],
   "source": [
    "np.unique(arr1, return_index= True, return_counts=True)"
   ]
  },
  {
   "cell_type": "code",
   "execution_count": 230,
   "metadata": {},
   "outputs": [
    {
     "data": {
      "text/plain": [
       "array([2, 2, 2, 4, 1, 1, 1, 2, 1, 2], dtype=int32)"
      ]
     },
     "execution_count": 230,
     "metadata": {},
     "output_type": "execute_result"
    }
   ],
   "source": [
    "arr2 = np.random.randint(1, 5, size = 10)\n",
    "arr2"
   ]
  },
  {
   "cell_type": "code",
   "execution_count": 215,
   "metadata": {},
   "outputs": [
    {
     "name": "stderr",
     "output_type": "stream",
     "text": [
      "C:\\Users\\vaide\\AppData\\Local\\Temp\\ipykernel_21724\\2696172370.py:1: DeprecationWarning: `in1d` is deprecated. Use `np.isin` instead.\n",
      "  np.in1d(arr1, arr2)  # depricated in 3.12 onwards\n"
     ]
    },
    {
     "data": {
      "text/plain": [
       "array([False, False, False,  True, False,  True,  True,  True,  True,\n",
       "       False])"
      ]
     },
     "execution_count": 215,
     "metadata": {},
     "output_type": "execute_result"
    }
   ],
   "source": [
    "np.in1d(arr1, arr2)  # depricated in 3.12 onwards"
   ]
  },
  {
   "cell_type": "code",
   "execution_count": 216,
   "metadata": {},
   "outputs": [
    {
     "data": {
      "text/plain": [
       "array([False, False, False,  True, False,  True,  True,  True,  True,\n",
       "       False])"
      ]
     },
     "execution_count": 216,
     "metadata": {},
     "output_type": "execute_result"
    }
   ],
   "source": [
    "np.isin(arr1, arr2)  # alternate for in1d()"
   ]
  },
  {
   "cell_type": "code",
   "execution_count": 231,
   "metadata": {},
   "outputs": [
    {
     "data": {
      "text/plain": [
       "array([1, 2, 3, 4, 5, 9], dtype=int32)"
      ]
     },
     "execution_count": 231,
     "metadata": {},
     "output_type": "execute_result"
    }
   ],
   "source": [
    "np.union1d(arr1, arr2) # combining two arrays in one"
   ]
  },
  {
   "cell_type": "code",
   "execution_count": 232,
   "metadata": {},
   "outputs": [
    {
     "data": {
      "text/plain": [
       "array([1], dtype=int32)"
      ]
     },
     "execution_count": 232,
     "metadata": {},
     "output_type": "execute_result"
    }
   ],
   "source": [
    "np.intersect1d(arr1, arr2) # common elements in both arrays"
   ]
  },
  {
   "cell_type": "markdown",
   "metadata": {
    "id": "GtcdxsPeSL1R"
   },
   "source": [
    "### Array Functions/Methods\n",
    "\n",
    "- np.all(), np.any()\n",
    "- arr.sum()\n",
    "- arr.min(), arr.max(), arr.argmin(), arr.agrmax()\n",
    "- np.round()\n",
    "- np.mean(), np.median(), np.average(), np.percentile()\n"
   ]
  },
  {
   "cell_type": "code",
   "execution_count": 234,
   "metadata": {},
   "outputs": [
    {
     "data": {
      "text/plain": [
       "array([4, 5, 7, 9, 7, 3, 2, 2, 6, 1], dtype=int32)"
      ]
     },
     "execution_count": 234,
     "metadata": {},
     "output_type": "execute_result"
    }
   ],
   "source": [
    "arr = np.random.randint(1, 10, size = 10)\n",
    "arr"
   ]
  },
  {
   "cell_type": "code",
   "execution_count": 235,
   "metadata": {},
   "outputs": [
    {
     "data": {
      "text/plain": [
       "np.int64(46)"
      ]
     },
     "execution_count": 235,
     "metadata": {},
     "output_type": "execute_result"
    }
   ],
   "source": [
    "np.sum(arr)  # function - called directly"
   ]
  },
  {
   "cell_type": "code",
   "execution_count": 236,
   "metadata": {},
   "outputs": [
    {
     "data": {
      "text/plain": [
       "np.int64(46)"
      ]
     },
     "execution_count": 236,
     "metadata": {},
     "output_type": "execute_result"
    }
   ],
   "source": [
    "arr.sum()  # method - called on the arr object"
   ]
  },
  {
   "cell_type": "code",
   "execution_count": 240,
   "metadata": {},
   "outputs": [
    {
     "data": {
      "text/plain": [
       "np.int32(1)"
      ]
     },
     "execution_count": 240,
     "metadata": {},
     "output_type": "execute_result"
    }
   ],
   "source": [
    "arr.min()"
   ]
  },
  {
   "cell_type": "code",
   "execution_count": 242,
   "metadata": {},
   "outputs": [
    {
     "data": {
      "text/plain": [
       "np.int64(9)"
      ]
     },
     "execution_count": 242,
     "metadata": {},
     "output_type": "execute_result"
    }
   ],
   "source": [
    "arr.argmin()"
   ]
  },
  {
   "cell_type": "code",
   "execution_count": 241,
   "metadata": {},
   "outputs": [
    {
     "data": {
      "text/plain": [
       "np.int32(9)"
      ]
     },
     "execution_count": 241,
     "metadata": {},
     "output_type": "execute_result"
    }
   ],
   "source": [
    "arr.max()"
   ]
  },
  {
   "cell_type": "markdown",
   "metadata": {},
   "source": [
    "- **all()** - Returns True if all elements are True\n",
    "- **any()** - returns True if any one element is True"
   ]
  },
  {
   "cell_type": "code",
   "execution_count": 243,
   "metadata": {},
   "outputs": [
    {
     "data": {
      "text/plain": [
       "array([4, 5, 7, 9, 7, 3, 2, 2, 6, 1], dtype=int32)"
      ]
     },
     "execution_count": 243,
     "metadata": {},
     "output_type": "execute_result"
    }
   ],
   "source": [
    "arr"
   ]
  },
  {
   "cell_type": "markdown",
   "metadata": {},
   "source": [
    "###### Ex. Are all numbers in the array less than 5?"
   ]
  },
  {
   "cell_type": "code",
   "execution_count": 245,
   "metadata": {},
   "outputs": [
    {
     "data": {
      "text/plain": [
       "np.False_"
      ]
     },
     "execution_count": 245,
     "metadata": {},
     "output_type": "execute_result"
    }
   ],
   "source": [
    "np.all(arr < 5)"
   ]
  },
  {
   "cell_type": "markdown",
   "metadata": {},
   "source": [
    "###### Ex. Is there any value less than 5?"
   ]
  },
  {
   "cell_type": "code",
   "execution_count": 246,
   "metadata": {},
   "outputs": [
    {
     "data": {
      "text/plain": [
       "np.True_"
      ]
     },
     "execution_count": 246,
     "metadata": {},
     "output_type": "execute_result"
    }
   ],
   "source": [
    "np.any(arr < 5)"
   ]
  },
  {
   "cell_type": "markdown",
   "metadata": {
    "id": "0fMLMsHCSL1U"
   },
   "source": [
    "### Array Manipulations\n",
    "\n",
    "- **Changing Shape** – np.reshape()\n",
    "- **Adding/Removing Elements** – np.append(), np.insert(), np.delete()\n",
    "- **Splitting Arrays** – np.hsplit(), np.vsplit(), arr_obj.flatten()\n",
    "- **Sorting Arrays** - arr_obj.sort(), arr_obj.argsort()"
   ]
  },
  {
   "cell_type": "code",
   "execution_count": 247,
   "metadata": {
    "id": "W3Lx8bLQSL1V"
   },
   "outputs": [
    {
     "data": {
      "text/plain": [
       "array([ 1,  2,  3,  4,  5,  6,  7,  8,  9, 10, 11, 12])"
      ]
     },
     "execution_count": 247,
     "metadata": {},
     "output_type": "execute_result"
    }
   ],
   "source": [
    "arr = np.arange(1, 13)\n",
    "arr"
   ]
  },
  {
   "cell_type": "markdown",
   "metadata": {
    "id": "76JffXiQSL1V"
   },
   "source": [
    "#### np.reshape()"
   ]
  },
  {
   "cell_type": "code",
   "execution_count": 248,
   "metadata": {
    "id": "lszpvd0QSL1V"
   },
   "outputs": [
    {
     "data": {
      "text/plain": [
       "array([[ 1,  2,  3],\n",
       "       [ 4,  5,  6],\n",
       "       [ 7,  8,  9],\n",
       "       [10, 11, 12]])"
      ]
     },
     "execution_count": 248,
     "metadata": {},
     "output_type": "execute_result"
    }
   ],
   "source": [
    "arr = np.reshape(arr, (4, 3))\n",
    "arr"
   ]
  },
  {
   "cell_type": "markdown",
   "metadata": {
    "id": "oRl19_P8SL1V"
   },
   "source": [
    "#### np.append()"
   ]
  },
  {
   "cell_type": "code",
   "execution_count": 249,
   "metadata": {
    "id": "eD-xawjvSL1V"
   },
   "outputs": [
    {
     "data": {
      "text/plain": [
       "array([ 1,  2,  3,  4,  5,  6,  7,  8,  9, 10, 11, 12, 10, 20, 30, 50, 40,\n",
       "       60])"
      ]
     },
     "execution_count": 249,
     "metadata": {},
     "output_type": "execute_result"
    }
   ],
   "source": [
    "np.append(arr, [10,20,30, 50, 40, 60]) # Flattens the array"
   ]
  },
  {
   "cell_type": "code",
   "execution_count": 250,
   "metadata": {},
   "outputs": [
    {
     "data": {
      "text/plain": [
       "array([[13, 14, 15]])"
      ]
     },
     "execution_count": 250,
     "metadata": {},
     "output_type": "execute_result"
    }
   ],
   "source": [
    "np.reshape(np.array([13, 14, 15]), (1, 3))"
   ]
  },
  {
   "cell_type": "code",
   "execution_count": 251,
   "metadata": {},
   "outputs": [
    {
     "data": {
      "text/plain": [
       "array([[ 1,  2,  3],\n",
       "       [ 4,  5,  6],\n",
       "       [ 7,  8,  9],\n",
       "       [10, 11, 12],\n",
       "       [13, 14, 15]])"
      ]
     },
     "execution_count": 251,
     "metadata": {},
     "output_type": "execute_result"
    }
   ],
   "source": [
    "np.append(arr, np.reshape(np.array([13, 14, 15]), (1, 3)), axis = 0) # axis = 0 denotes row-wise"
   ]
  },
  {
   "cell_type": "code",
   "execution_count": 252,
   "metadata": {},
   "outputs": [
    {
     "data": {
      "text/plain": [
       "array([[ 1,  2,  3, 10],\n",
       "       [ 4,  5,  6, 20],\n",
       "       [ 7,  8,  9, 30],\n",
       "       [10, 11, 12, 40]])"
      ]
     },
     "execution_count": 252,
     "metadata": {},
     "output_type": "execute_result"
    }
   ],
   "source": [
    "np.append(arr, np.reshape(np.array([10, 20, 30, 40]), (4, 1)), axis = 1) # axis = 1 denotes col-wise"
   ]
  },
  {
   "cell_type": "markdown",
   "metadata": {
    "id": "FmxAPLupSL1W"
   },
   "source": [
    "#### np.insert()"
   ]
  },
  {
   "cell_type": "code",
   "execution_count": 254,
   "metadata": {
    "id": "-348fjyjSL1W"
   },
   "outputs": [
    {
     "data": {
      "text/plain": [
       "array([[ 1,  2,  3],\n",
       "       [ 4,  5,  6],\n",
       "       [ 7,  8,  9],\n",
       "       [10, 11, 12]])"
      ]
     },
     "execution_count": 254,
     "metadata": {},
     "output_type": "execute_result"
    }
   ],
   "source": [
    "arr = np.reshape(np.arange(1,13), (4,3))\n",
    "arr"
   ]
  },
  {
   "cell_type": "code",
   "execution_count": 255,
   "metadata": {
    "id": "7790frJvSL1X"
   },
   "outputs": [
    {
     "data": {
      "text/plain": [
       "array([ 1,  5,  2,  3,  4,  5,  6,  7,  8,  9, 10, 11, 12])"
      ]
     },
     "execution_count": 255,
     "metadata": {},
     "output_type": "execute_result"
    }
   ],
   "source": [
    "np.insert(arr, 1, 5) # Flattens the arr and inserts 5 at index 1"
   ]
  },
  {
   "cell_type": "code",
   "execution_count": 256,
   "metadata": {
    "id": "zlobpnLuSL1Z"
   },
   "outputs": [
    {
     "data": {
      "text/plain": [
       "array([[ 1,  2,  3],\n",
       "       [ 5,  5,  5],\n",
       "       [ 4,  5,  6],\n",
       "       [ 7,  8,  9],\n",
       "       [10, 11, 12]])"
      ]
     },
     "execution_count": 256,
     "metadata": {},
     "output_type": "execute_result"
    }
   ],
   "source": [
    "np.insert(arr, 1, 5, axis = 0) # Inserts [5, 5, 5] as row 1"
   ]
  },
  {
   "cell_type": "code",
   "execution_count": 257,
   "metadata": {
    "id": "vu59b1XbSL1a"
   },
   "outputs": [
    {
     "data": {
      "text/plain": [
       "array([[ 1,  5,  2,  3],\n",
       "       [ 4,  5,  5,  6],\n",
       "       [ 7,  5,  8,  9],\n",
       "       [10,  5, 11, 12]])"
      ]
     },
     "execution_count": 257,
     "metadata": {},
     "output_type": "execute_result"
    }
   ],
   "source": [
    "np.insert(arr, 1, 5, axis=1) # Inserts [5, 5, 5, 5] as column 1"
   ]
  },
  {
   "cell_type": "code",
   "execution_count": 261,
   "metadata": {
    "id": "IshmcWfLSL1a"
   },
   "outputs": [
    {
     "data": {
      "text/plain": [
       "array([[ 1, 10,  2,  3],\n",
       "       [ 4, 20,  5,  6],\n",
       "       [ 7, 30,  8,  9],\n",
       "       [10, 40, 11, 12]])"
      ]
     },
     "execution_count": 261,
     "metadata": {},
     "output_type": "execute_result"
    }
   ],
   "source": [
    "np.insert(arr, 1, [10, 20, 30, 40], axis=1) # col-level"
   ]
  },
  {
   "cell_type": "code",
   "execution_count": 259,
   "metadata": {
    "id": "SjY7Zk99SL1a"
   },
   "outputs": [
    {
     "data": {
      "text/plain": [
       "array([[ 1,  2,  3],\n",
       "       [10, 20, 30],\n",
       "       [ 4,  5,  6],\n",
       "       [ 7,  8,  9],\n",
       "       [10, 11, 12]])"
      ]
     },
     "execution_count": 259,
     "metadata": {},
     "output_type": "execute_result"
    }
   ],
   "source": [
    "np.insert(arr, 1, [10, 20, 30], axis=0)"
   ]
  },
  {
   "cell_type": "markdown",
   "metadata": {
    "id": "Rkb1mtVlSL1a"
   },
   "source": [
    "#### np.delete()"
   ]
  },
  {
   "cell_type": "code",
   "execution_count": 262,
   "metadata": {
    "id": "1LshS_7-SL1a"
   },
   "outputs": [
    {
     "data": {
      "text/plain": [
       "array([[ 1,  2,  3],\n",
       "       [ 4,  5,  6],\n",
       "       [ 7,  8,  9],\n",
       "       [10, 11, 12]])"
      ]
     },
     "execution_count": 262,
     "metadata": {},
     "output_type": "execute_result"
    }
   ],
   "source": [
    "arr = np.reshape(np.arange(1,13), (4,3))\n",
    "arr"
   ]
  },
  {
   "cell_type": "code",
   "execution_count": 263,
   "metadata": {
    "id": "2npy2ILdSL1b"
   },
   "outputs": [
    {
     "data": {
      "text/plain": [
       "array([ 1,  3,  4,  5,  6,  7,  8,  9, 10, 11, 12])"
      ]
     },
     "execution_count": 263,
     "metadata": {},
     "output_type": "execute_result"
    }
   ],
   "source": [
    "np.delete(arr, 1) # Flattens the arr and deletes element at index 1"
   ]
  },
  {
   "cell_type": "code",
   "execution_count": 264,
   "metadata": {
    "id": "lzZICc76SL1b"
   },
   "outputs": [
    {
     "data": {
      "text/plain": [
       "array([[ 1,  2,  3],\n",
       "       [ 7,  8,  9],\n",
       "       [10, 11, 12]])"
      ]
     },
     "execution_count": 264,
     "metadata": {},
     "output_type": "execute_result"
    }
   ],
   "source": [
    "np.delete(arr, 1, axis=0) # deletes row 1"
   ]
  },
  {
   "cell_type": "code",
   "execution_count": 265,
   "metadata": {
    "id": "7gzPkIY2SL1b"
   },
   "outputs": [
    {
     "data": {
      "text/plain": [
       "array([[ 1,  3],\n",
       "       [ 4,  6],\n",
       "       [ 7,  9],\n",
       "       [10, 12]])"
      ]
     },
     "execution_count": 265,
     "metadata": {},
     "output_type": "execute_result"
    }
   ],
   "source": [
    "np.delete(arr, 1, axis=1) # deletes column 1"
   ]
  },
  {
   "cell_type": "code",
   "execution_count": 266,
   "metadata": {
    "id": "QSKdbkWWSL1c"
   },
   "outputs": [
    {
     "data": {
      "text/plain": [
       "array([[ 4,  5,  6],\n",
       "       [10, 11, 12]])"
      ]
     },
     "execution_count": 266,
     "metadata": {},
     "output_type": "execute_result"
    }
   ],
   "source": [
    "np.delete(arr,[0,2], axis=0) # deletes selected rows"
   ]
  },
  {
   "cell_type": "code",
   "execution_count": 267,
   "metadata": {
    "id": "Br8pH50ZSL1c"
   },
   "outputs": [
    {
     "data": {
      "text/plain": [
       "array([[ 2],\n",
       "       [ 5],\n",
       "       [ 8],\n",
       "       [11]])"
      ]
     },
     "execution_count": 267,
     "metadata": {},
     "output_type": "execute_result"
    }
   ],
   "source": [
    "np.delete(arr,[0,2], axis=1) # deletes selected columns"
   ]
  },
  {
   "cell_type": "markdown",
   "metadata": {
    "id": "qKuII5G5SL1d"
   },
   "source": [
    "#### np.hsplit(), np.vsplit()"
   ]
  },
  {
   "cell_type": "code",
   "execution_count": 268,
   "metadata": {
    "id": "G9Vgyyu4SL1d"
   },
   "outputs": [
    {
     "data": {
      "text/plain": [
       "array([[ 1,  2,  3,  4],\n",
       "       [ 5,  6,  7,  8],\n",
       "       [ 9, 10, 11, 12],\n",
       "       [13, 14, 15, 16],\n",
       "       [17, 18, 19, 20],\n",
       "       [21, 22, 23, 24]])"
      ]
     },
     "execution_count": 268,
     "metadata": {},
     "output_type": "execute_result"
    }
   ],
   "source": [
    "arr = np.reshape(np.arange(1, 25), (6,4))\n",
    "arr"
   ]
  },
  {
   "cell_type": "code",
   "execution_count": 276,
   "metadata": {
    "id": "D0aZdlUYSL1d"
   },
   "outputs": [
    {
     "data": {
      "text/plain": [
       "[array([[ 1,  2,  3,  4],\n",
       "        [ 5,  6,  7,  8],\n",
       "        [ 9, 10, 11, 12]]),\n",
       " array([[13, 14, 15, 16],\n",
       "        [17, 18, 19, 20],\n",
       "        [21, 22, 23, 24]])]"
      ]
     },
     "execution_count": 276,
     "metadata": {},
     "output_type": "execute_result"
    }
   ],
   "source": [
    "np.vsplit(arr, 2)"
   ]
  },
  {
   "cell_type": "code",
   "execution_count": 272,
   "metadata": {
    "id": "o85kXgOySL1d"
   },
   "outputs": [
    {
     "data": {
      "text/plain": [
       "[array([[ 1,  2],\n",
       "        [ 5,  6],\n",
       "        [ 9, 10],\n",
       "        [13, 14],\n",
       "        [17, 18],\n",
       "        [21, 22]]),\n",
       " array([[ 3,  4],\n",
       "        [ 7,  8],\n",
       "        [11, 12],\n",
       "        [15, 16],\n",
       "        [19, 20],\n",
       "        [23, 24]])]"
      ]
     },
     "execution_count": 272,
     "metadata": {},
     "output_type": "execute_result"
    }
   ],
   "source": [
    "np.hsplit(arr, 2)"
   ]
  },
  {
   "cell_type": "markdown",
   "metadata": {
    "id": "HUuAK26fSL1d"
   },
   "source": [
    "#### flatten()"
   ]
  },
  {
   "cell_type": "code",
   "execution_count": 277,
   "metadata": {
    "id": "pZOR76k6SL1e"
   },
   "outputs": [
    {
     "data": {
      "text/plain": [
       "array([[ 1,  2,  3,  4],\n",
       "       [ 5,  6,  7,  8],\n",
       "       [ 9, 10, 11, 12],\n",
       "       [13, 14, 15, 16],\n",
       "       [17, 18, 19, 20],\n",
       "       [21, 22, 23, 24]])"
      ]
     },
     "execution_count": 277,
     "metadata": {},
     "output_type": "execute_result"
    }
   ],
   "source": [
    "arr"
   ]
  },
  {
   "cell_type": "code",
   "execution_count": 278,
   "metadata": {
    "id": "agJMSAfnSL1e"
   },
   "outputs": [
    {
     "data": {
      "text/plain": [
       "array([ 1,  2,  3,  4,  5,  6,  7,  8,  9, 10, 11, 12, 13, 14, 15, 16, 17,\n",
       "       18, 19, 20, 21, 22, 23, 24])"
      ]
     },
     "execution_count": 278,
     "metadata": {},
     "output_type": "execute_result"
    }
   ],
   "source": [
    "arr.flatten() # returns a 1-D array"
   ]
  },
  {
   "cell_type": "code",
   "execution_count": 279,
   "metadata": {
    "id": "agJMSAfnSL1e"
   },
   "outputs": [
    {
     "data": {
      "text/plain": [
       "array([ 1,  5,  9, 13, 17, 21,  2,  6, 10, 14, 18, 22,  3,  7, 11, 15, 19,\n",
       "       23,  4,  8, 12, 16, 20, 24])"
      ]
     },
     "execution_count": 279,
     "metadata": {},
     "output_type": "execute_result"
    }
   ],
   "source": [
    "arr.flatten(order = \"F\") # returns a 1-D array"
   ]
  },
  {
   "cell_type": "code",
   "execution_count": null,
   "metadata": {
    "id": "TCVZAK-hSL1e"
   },
   "outputs": [],
   "source": [
    "help(arr.flatten)"
   ]
  },
  {
   "cell_type": "markdown",
   "metadata": {},
   "source": [
    "#### np.sort()"
   ]
  },
  {
   "cell_type": "code",
   "execution_count": 280,
   "metadata": {},
   "outputs": [],
   "source": [
    "products = np.array([\"P1\", \"P2\", \"P3\", \"P4\", \"P5\"])\n",
    "sales = np.array([300, 500, 400, 200, 800])"
   ]
  },
  {
   "cell_type": "markdown",
   "metadata": {},
   "source": [
    "###### Ex. Standard sort"
   ]
  },
  {
   "cell_type": "code",
   "execution_count": 281,
   "metadata": {},
   "outputs": [
    {
     "data": {
      "text/plain": [
       "array([200, 300, 400, 500, 800])"
      ]
     },
     "execution_count": 281,
     "metadata": {},
     "output_type": "execute_result"
    }
   ],
   "source": [
    "np.sort(sales)"
   ]
  },
  {
   "cell_type": "markdown",
   "metadata": {},
   "source": [
    "###### Ex. Sort the products by sales"
   ]
  },
  {
   "cell_type": "code",
   "execution_count": 282,
   "metadata": {},
   "outputs": [
    {
     "data": {
      "text/plain": [
       "array([3, 0, 2, 1, 4])"
      ]
     },
     "execution_count": 282,
     "metadata": {},
     "output_type": "execute_result"
    }
   ],
   "source": [
    "np.argsort(sales) # sorts the sales array in ASC order and returns the index positions of the values in original array"
   ]
  },
  {
   "cell_type": "code",
   "execution_count": 283,
   "metadata": {},
   "outputs": [
    {
     "data": {
      "text/plain": [
       "array(['P4', 'P1', 'P3', 'P2', 'P5'], dtype='<U2')"
      ]
     },
     "execution_count": 283,
     "metadata": {},
     "output_type": "execute_result"
    }
   ],
   "source": [
    "products[np.argsort(sales)]"
   ]
  },
  {
   "cell_type": "markdown",
   "metadata": {},
   "source": [
    "#### Examples on Coffee Shop Data Set"
   ]
  },
  {
   "cell_type": "code",
   "execution_count": 286,
   "metadata": {},
   "outputs": [],
   "source": [
    "import numpy as np\n",
    "products = np.array(['Caffe Latte', 'Cappuccino', 'Colombian', 'Darjeeling', 'Decaf Irish Cream', 'Earl Grey', 'Green Tea', 'Lemon', 'Mint', 'Regular Espresso'])\n",
    "sales = np.array([52248.0, 14068.0, 71060.0, 60014.0, 69925.0, 27711.0, 19231.0, 24873.0, 32825.0, 44109.0])\n",
    "profits = np.array([17444.0, 5041.0, 28390.0, 20459.0, 23432.0, 7691.0, -2954.0, 7159.0, 10722.0, 14902.0])\n",
    "target_profits = np.array([15934.0, 4924.0, 31814.0, 19649.0, 24934.0, 8461.0, 7090.0, 7084.0, 10135.0, 16306.0])\n",
    "target_sales = np.array([48909.0, 13070.0, 80916.0, 57368.0, 66906.0, 30402.0, 18212.0, 21628.0, 27336.0, 42102.0])"
   ]
  },
  {
   "cell_type": "markdown",
   "metadata": {},
   "source": [
    "###### Ex. How many products are there in the dataset?"
   ]
  },
  {
   "cell_type": "code",
   "execution_count": 287,
   "metadata": {},
   "outputs": [
    {
     "data": {
      "text/plain": [
       "10"
      ]
     },
     "execution_count": 287,
     "metadata": {},
     "output_type": "execute_result"
    }
   ],
   "source": [
    "products.size"
   ]
  },
  {
   "cell_type": "code",
   "execution_count": 289,
   "metadata": {},
   "outputs": [
    {
     "data": {
      "text/plain": [
       "10"
      ]
     },
     "execution_count": 289,
     "metadata": {},
     "output_type": "execute_result"
    }
   ],
   "source": [
    "np.unique(products).size"
   ]
  },
  {
   "cell_type": "markdown",
   "metadata": {},
   "source": [
    "###### Ex.  Sales greater than 50,000"
   ]
  },
  {
   "cell_type": "code",
   "execution_count": 290,
   "metadata": {},
   "outputs": [
    {
     "data": {
      "text/plain": [
       "array([52248., 71060., 60014., 69925.])"
      ]
     },
     "execution_count": 290,
     "metadata": {},
     "output_type": "execute_result"
    }
   ],
   "source": [
    "sales[sales>50000]"
   ]
  },
  {
   "cell_type": "markdown",
   "metadata": {},
   "source": [
    "###### Ex. Are there any losses?"
   ]
  },
  {
   "cell_type": "code",
   "execution_count": 292,
   "metadata": {},
   "outputs": [
    {
     "data": {
      "text/plain": [
       "np.True_"
      ]
     },
     "execution_count": 292,
     "metadata": {},
     "output_type": "execute_result"
    }
   ],
   "source": [
    "np.any(profits < 0)"
   ]
  },
  {
   "cell_type": "code",
   "execution_count": 291,
   "metadata": {},
   "outputs": [
    {
     "data": {
      "text/plain": [
       "array([-2954.])"
      ]
     },
     "execution_count": 291,
     "metadata": {},
     "output_type": "execute_result"
    }
   ],
   "source": [
    "profits[profits < 0]"
   ]
  },
  {
   "cell_type": "markdown",
   "metadata": {},
   "source": [
    "###### Ex.  Products in loss"
   ]
  },
  {
   "cell_type": "code",
   "execution_count": 293,
   "metadata": {},
   "outputs": [
    {
     "data": {
      "text/plain": [
       "array(['Green Tea'], dtype='<U17')"
      ]
     },
     "execution_count": 293,
     "metadata": {},
     "output_type": "execute_result"
    }
   ],
   "source": [
    "products[profits < 0]"
   ]
  },
  {
   "cell_type": "markdown",
   "metadata": {},
   "source": [
    "###### Ex.  Product with maximum Sales"
   ]
  },
  {
   "cell_type": "code",
   "execution_count": 295,
   "metadata": {},
   "outputs": [
    {
     "data": {
      "text/plain": [
       "np.str_('Colombian')"
      ]
     },
     "execution_count": 295,
     "metadata": {},
     "output_type": "execute_result"
    }
   ],
   "source": [
    "products[np.argmax(sales)]  # indexing - returns the str object "
   ]
  },
  {
   "cell_type": "code",
   "execution_count": 296,
   "metadata": {},
   "outputs": [
    {
     "data": {
      "text/plain": [
       "array(['Colombian'], dtype='<U17')"
      ]
     },
     "execution_count": 296,
     "metadata": {},
     "output_type": "execute_result"
    }
   ],
   "source": [
    "products[sales == np.max(sales)]  # filtering - returns an array object"
   ]
  },
  {
   "cell_type": "markdown",
   "metadata": {},
   "source": [
    "###### Ex. Identify the products meeting the Target Profits"
   ]
  },
  {
   "cell_type": "code",
   "execution_count": 299,
   "metadata": {},
   "outputs": [
    {
     "data": {
      "text/plain": [
       "array(['Caffe Latte', 'Cappuccino', 'Darjeeling', 'Lemon', 'Mint'],\n",
       "      dtype='<U17')"
      ]
     },
     "execution_count": 299,
     "metadata": {},
     "output_type": "execute_result"
    }
   ],
   "source": [
    "profit_ach = products[profits >= target_profits]\n",
    "profit_ach"
   ]
  },
  {
   "cell_type": "markdown",
   "metadata": {},
   "source": [
    "###### Ex. Are the above products meeting their sales target too?\n",
    "- Find sales target achievers\n",
    "- Compare them with profit achievers\n",
    "- If True - print Yes\n",
    "- Else - print the product achieveing profit targets but not sales targets"
   ]
  },
  {
   "cell_type": "code",
   "execution_count": 300,
   "metadata": {},
   "outputs": [
    {
     "data": {
      "text/plain": [
       "array(['Caffe Latte', 'Cappuccino', 'Darjeeling', 'Decaf Irish Cream',\n",
       "       'Green Tea', 'Lemon', 'Mint', 'Regular Espresso'], dtype='<U17')"
      ]
     },
     "execution_count": 300,
     "metadata": {},
     "output_type": "execute_result"
    }
   ],
   "source": [
    "sales_ach = products[sales >= target_sales]\n",
    "sales_ach"
   ]
  },
  {
   "cell_type": "code",
   "execution_count": 305,
   "metadata": {},
   "outputs": [
    {
     "name": "stdout",
     "output_type": "stream",
     "text": [
      "Yes\n"
     ]
    }
   ],
   "source": [
    "# Are profit ach meeting their sales target or not?\n",
    "if np.all(np.isin(profit_ach, sales_ach)) :\n",
    "    print(\"Yes\")\n",
    "else:\n",
    "    print(\"No\")"
   ]
  },
  {
   "cell_type": "markdown",
   "metadata": {},
   "source": [
    "###### Ex. Identify products which are not achieving their profit target. Calculate their target status in percentage. Display the products in DESC order of their percentage status"
   ]
  },
  {
   "cell_type": "code",
   "execution_count": 309,
   "metadata": {},
   "outputs": [],
   "source": [
    "# Data for all the products not achieveing the targets\n",
    "products_off = products[profits < target_profits]\n",
    "profits_off = profits[profits < target_profits]\n",
    "targets_off = target_profits[profits < target_profits]"
   ]
  },
  {
   "cell_type": "code",
   "execution_count": 313,
   "metadata": {},
   "outputs": [
    {
     "data": {
      "text/plain": [
       "array([89.24, 93.98, 90.9 ,  0.  , 91.39])"
      ]
     },
     "execution_count": 313,
     "metadata": {},
     "output_type": "execute_result"
    }
   ],
   "source": [
    "# Percentage of target achieved | replace negative percentage to zero\n",
    "percentage = np.round(profits_off / targets_off * 100, 2)\n",
    "percentage[percentage < 0] = 0\n",
    "percentage"
   ]
  },
  {
   "cell_type": "code",
   "execution_count": 319,
   "metadata": {},
   "outputs": [],
   "source": [
    "# Sort the Products and percentage arrays in DSC of percentage\n",
    "sort_order = np.argsort(percentage)[::-1]  \n",
    "products_ = products_off[sort_order]\n",
    "percentage_ = percentage[sort_order]"
   ]
  },
  {
   "cell_type": "code",
   "execution_count": 321,
   "metadata": {},
   "outputs": [
    {
     "name": "stdout",
     "output_type": "stream",
     "text": [
      "Decaf Irish Cream has achieved 93.98% of its total targets\n",
      "Regular Espresso has achieved 91.39% of its total targets\n",
      "Earl Grey has achieved 90.9% of its total targets\n",
      "Colombian has achieved 89.24% of its total targets\n",
      "Green Tea has achieved 0.0% of its total targets\n"
     ]
    }
   ],
   "source": [
    "# Print the Products and their percentage - iterate over two arrays simultaneously\n",
    "for prod, perc in zip(products_, percentage_) :\n",
    "    print(f\"{prod} has achieved {perc}% of its total targets\")"
   ]
  },
  {
   "cell_type": "code",
   "execution_count": 317,
   "metadata": {},
   "outputs": [
    {
     "data": {
      "text/plain": [
       "[(1, 5), (2, 6), (3, 7), (4, 8)]"
      ]
     },
     "execution_count": 317,
     "metadata": {},
     "output_type": "execute_result"
    }
   ],
   "source": [
    "# zip() - combines lists/tuples/arrays index-wise - generating sequence of tuples\n",
    "list(zip([1, 2, 3, 4], [5, 6, 7, 8]))"
   ]
  },
  {
   "cell_type": "code",
   "execution_count": 318,
   "metadata": {},
   "outputs": [
    {
     "data": {
      "text/plain": [
       "{1: 5, 2: 6, 3: 7, 4: 8}"
      ]
     },
     "execution_count": 318,
     "metadata": {},
     "output_type": "execute_result"
    }
   ],
   "source": [
    "dict(zip([1, 2, 3, 4], [5, 6, 7, 8]))"
   ]
  },
  {
   "cell_type": "markdown",
   "metadata": {},
   "source": [
    "<hr><hr>"
   ]
  },
  {
   "cell_type": "markdown",
   "metadata": {
    "id": "mM6-kLpsaQo6"
   },
   "source": [
    "# Data visualization (Basics)\n",
    "\n",
    "- Representation of the data in a pictorial or graphical format\n",
    "- Allow us to get the intuitive understanding of the data\n",
    "- Helps to visualize the patterns in the data\n",
    "- Python offers multiple great graphing libraries that come packed with lots of different features.\n",
    "- Matplotlib: low level, provides lots of freedom\n",
    "- Pandas Visualization: easy to use interface, built on Matplotlib\n",
    "- Seaborn: high-level interface, great default styles\n",
    "- Plotly: can create interactive plots\n",
    "- Bokeh: used creating interactive visualizations for modern web browsers\""
   ]
  },
  {
   "cell_type": "markdown",
   "metadata": {
    "id": "oWgV45NhaQo-"
   },
   "source": [
    "### Primary Objects of matplotlib\n",
    "<img src = \"./images/figure.png\" align = left width = 300>\n",
    "<br><br><br><br><br><br><br><br>\n",
    "\n",
    "- The [figure] is the overall figure space that can contain one or more plots\n",
    "- The [axes] is the individual plots that are rendered within the figure"
   ]
  },
  {
   "cell_type": "markdown",
   "metadata": {
    "id": "t9b0g8O2aQo-"
   },
   "source": [
    "### Anatomy of a figure"
   ]
  },
  {
   "cell_type": "markdown",
   "metadata": {
    "id": "54B2DI0jaQo_"
   },
   "source": [
    "<img src = \"./images/figure_anatomy.jpg\" align = left width = 400>"
   ]
  },
  {
   "cell_type": "markdown",
   "metadata": {
    "id": "I5sDhUa2aQo_"
   },
   "source": [
    "### Using matplotlib.pyplot library to plot a chart"
   ]
  },
  {
   "cell_type": "markdown",
   "metadata": {
    "id": "pYtYRKOWaQo_"
   },
   "source": [
    "#### Installing library -\n",
    "\n",
    "!pip install matplotlib\n",
    "\n",
    "#### Importing library -"
   ]
  },
  {
   "cell_type": "code",
   "execution_count": 1,
   "metadata": {
    "id": "smSdWJrtaQo_"
   },
   "outputs": [],
   "source": [
    "import matplotlib.pyplot as plt"
   ]
  },
  {
   "cell_type": "markdown",
   "metadata": {},
   "source": [
    "###### Ex. Construct a line chart displaying the daily closing values of Sensex and Nifty throughout the days in September."
   ]
  },
  {
   "cell_type": "code",
   "execution_count": null,
   "metadata": {
    "id": "KNciRcByaQpB"
   },
   "outputs": [],
   "source": [
    "import numpy as np\n",
    "dates = np.arange('2024-09-01', '2024-10-01', dtype='datetime64[D]')\n",
    "sensex = np.random.randint(79000, 82000, size = 30)\n",
    "nifty = np.random.randint(23000, 25000, size = 30)"
   ]
  },
  {
   "cell_type": "code",
   "execution_count": null,
   "metadata": {
    "id": "nsLbx4tyaQpB"
   },
   "outputs": [],
   "source": []
  },
  {
   "cell_type": "code",
   "execution_count": null,
   "metadata": {
    "id": "4IzokfkwaQpG"
   },
   "outputs": [],
   "source": []
  },
  {
   "cell_type": "markdown",
   "metadata": {
    "id": "ph-aV1V9aQpG"
   },
   "source": [
    "#### Creating a subplot"
   ]
  },
  {
   "cell_type": "code",
   "execution_count": null,
   "metadata": {},
   "outputs": [],
   "source": []
  },
  {
   "cell_type": "markdown",
   "metadata": {
    "id": "owb2idy1aQpH"
   },
   "source": [
    "### Additional chart types"
   ]
  },
  {
   "cell_type": "code",
   "execution_count": 2,
   "metadata": {
    "id": "9zFUcrLgaQpH"
   },
   "outputs": [],
   "source": [
    "import numpy as np\n",
    "products = np.array(['Caffe Latte', 'Cappuccino', 'Colombian', 'Darjeeling', 'Decaf Irish Cream', 'Earl Grey', 'Green Tea', 'Lemon', 'Mint', 'Regular Espresso'])\n",
    "sales = np.array([52248.0, 14068.0, 71060.0, 60014.0, 69925.0, 27711.0, 19231.0, 24873.0, 32825.0, 44109.0])\n",
    "profits = np.array([17444.0, 5041.0, 28390.0, 20459.0, 23432.0, 7691.0, -2954.0, 7159.0, 10722.0, 14902.0])\n",
    "target_profits = np.array([15934.0, 4924.0, 31814.0, 19649.0, 24934.0, 8461.0, 7090.0, 7084.0, 10135.0, 16306.0])\n",
    "target_sales = np.array([48909.0, 13070.0, 80916.0, 57368.0, 66906.0, 30402.0, 18212.0, 21628.0, 27336.0, 42102.0])"
   ]
  },
  {
   "cell_type": "markdown",
   "metadata": {
    "id": "DS08CfLIaQpH"
   },
   "source": [
    "#### Bar chart"
   ]
  },
  {
   "cell_type": "markdown",
   "metadata": {
    "id": "_5lCASO6aQpI"
   },
   "source": [
    "###### Ex. Create a bar chart displaying sales for different products. Incorporate the following elements into the chart:\n",
    "\n",
    "1. Add a title, grid lines, and an average line.\n",
    "2. Adjust the y-axis ticks to display in thousands.\n",
    "3. Include annotations for each bar, showing values in thousands.\n",
    "4. Sort the bars in descending order of sales                     "
   ]
  },
  {
   "cell_type": "code",
   "execution_count": null,
   "metadata": {},
   "outputs": [],
   "source": []
  },
  {
   "cell_type": "markdown",
   "metadata": {
    "id": "YykelSXtaQpI"
   },
   "source": [
    "#### Stacked bar chart"
   ]
  },
  {
   "cell_type": "markdown",
   "metadata": {},
   "source": [
    "###### Ex. Include profits in the above chart as a stacked bar chart"
   ]
  },
  {
   "cell_type": "code",
   "execution_count": null,
   "metadata": {},
   "outputs": [],
   "source": []
  },
  {
   "cell_type": "markdown",
   "metadata": {
    "id": "hThr6YSSaQpI"
   },
   "source": [
    "#### Side by Side Bar Chart"
   ]
  },
  {
   "cell_type": "markdown",
   "metadata": {},
   "source": [
    "###### Ex. Convert the stacked bar chart into side by side bar chart. Add following changes to the chart - \n",
    "1. Adjust the annotations co-ordinates\n",
    "2. Change color of negative profits to red"
   ]
  },
  {
   "cell_type": "code",
   "execution_count": null,
   "metadata": {},
   "outputs": [],
   "source": []
  },
  {
   "cell_type": "markdown",
   "metadata": {
    "id": "-mFLRkcKaQpJ"
   },
   "source": [
    "#### Bullet chart"
   ]
  },
  {
   "cell_type": "markdown",
   "metadata": {},
   "source": [
    "###### Ex. Design a bullet chart to illustrate profit target status. Ensure the chart includes the following components:\n",
    "\n",
    "1. Utilize a horizontal bar chart format.\n",
    "2. Represent profit values with bars, and indicate targets with a vertical line.\n",
    "3. Adjust the x-axis ticks to display in thousands.\n",
    "4. Calculate the percentage of target achievement and visually highlight it using a red-amber-green color scheme."
   ]
  },
  {
   "cell_type": "code",
   "execution_count": null,
   "metadata": {},
   "outputs": [],
   "source": []
  },
  {
   "cell_type": "markdown",
   "metadata": {
    "id": "wqake4BIaQpJ"
   },
   "source": [
    "#### Pie chart"
   ]
  },
  {
   "cell_type": "code",
   "execution_count": null,
   "metadata": {},
   "outputs": [],
   "source": []
  },
  {
   "cell_type": "markdown",
   "metadata": {
    "id": "cDNpqA7JaQpK"
   },
   "source": [
    "#### Scatter Plot"
   ]
  },
  {
   "cell_type": "code",
   "execution_count": null,
   "metadata": {},
   "outputs": [],
   "source": []
  },
  {
   "cell_type": "markdown",
   "metadata": {
    "id": "mTJaRZecaQpK"
   },
   "source": [
    "<hr><hr>"
   ]
  }
 ],
 "metadata": {
  "colab": {
   "provenance": []
  },
  "kernelspec": {
   "display_name": "Python 3 (ipykernel)",
   "language": "python",
   "name": "python3"
  },
  "language_info": {
   "codemirror_mode": {
    "name": "ipython",
    "version": 3
   },
   "file_extension": ".py",
   "mimetype": "text/x-python",
   "name": "python",
   "nbconvert_exporter": "python",
   "pygments_lexer": "ipython3",
   "version": "3.12.0"
  }
 },
 "nbformat": 4,
 "nbformat_minor": 4
}
